{
  "cells": [
    {
      "cell_type": "markdown",
      "metadata": {
        "id": "view-in-github",
        "colab_type": "text"
      },
      "source": [
        "<a href=\"https://colab.research.google.com/github/al34n1x/2.ds_intro_python/blob/main/2.Funciones.ipynb\" target=\"_parent\"><img src=\"https://colab.research.google.com/assets/colab-badge.svg\" alt=\"Open In Colab\"/></a>"
      ]
    },
    {
      "cell_type": "markdown",
      "metadata": {
        "colab_type": "toc",
        "id": "rHqoAOjF9StG"
      },
      "source": [
        ">[Funciones](#updateTitle=true&folderId=1hYY6URNFLa2w5I3uQbpDlwOox_am-5cM&scrollTo=q9cZz5doFp_T)\n",
        "\n",
        ">>[Pasar información a una función](#updateTitle=true&folderId=1hYY6URNFLa2w5I3uQbpDlwOox_am-5cM&scrollTo=qY3mffaDF99i)\n",
        "\n",
        ">>[Pasar argumentos](#updateTitle=true&folderId=1hYY6URNFLa2w5I3uQbpDlwOox_am-5cM&scrollTo=FcXBsMgNGhRG)\n",
        "\n",
        ">>>[Argumentos de palabras clave](#updateTitle=true&folderId=1hYY6URNFLa2w5I3uQbpDlwOox_am-5cM&scrollTo=DL9a2HsvHD1r)\n",
        "\n",
        ">>[Valores predeterminados](#updateTitle=true&folderId=1hYY6URNFLa2w5I3uQbpDlwOox_am-5cM&scrollTo=WMef9asvHWQ_)\n",
        "\n",
        ">>[Valores devueltos](#updateTitle=true&folderId=1hYY6URNFLa2w5I3uQbpDlwOox_am-5cM&scrollTo=WV0mIlYrHkYE)\n",
        "\n",
        ">>[Hacer un argumento opcional](#updateTitle=true&folderId=1hYY6URNFLa2w5I3uQbpDlwOox_am-5cM&scrollTo=qAZkP0cbIHuw)\n",
        "\n",
        ">>[Pasando una lista](#updateTitle=true&folderId=1hYY6URNFLa2w5I3uQbpDlwOox_am-5cM&scrollTo=3U8GJJTKIpNt)\n",
        "\n",
        ">>[Modificar una lista en una función](#updateTitle=true&folderId=1hYY6URNFLa2w5I3uQbpDlwOox_am-5cM&scrollTo=UbdApiC_JvUC)\n",
        "\n"
      ]
    },
    {
      "cell_type": "markdown",
      "metadata": {
        "id": "q9cZz5doFp_T"
      },
      "source": [
        "# Funciones\n",
        "\n",
        "Cuando desee realizar una tarea en particular que haya definido en una función, llame a la función responsable de ella. Si necesita realizar esa tarea varias veces a lo largo de su programa, no es necesario que escriba todo el código para la misma tarea una y otra vez; simplemente llama a la función dedicada a manejar esa tarea, y la llamada le dice a Python que ejecute el código dentro de la función. Descubrirá que el uso de funciones hace que sus programas sean más fáciles de escribir, leer, probar y corregir."
      ]
    },
    {
      "cell_type": "code",
      "execution_count": null,
      "metadata": {
        "colab": {
          "base_uri": "https://localhost:8080/"
        },
        "id": "mDBvt74ZFnyG",
        "outputId": "3a77f370-d688-4459-b22d-d7c3890cccf7"
      },
      "outputs": [
        {
          "name": "stdout",
          "output_type": "stream",
          "text": [
            "Hello!\n"
          ]
        }
      ],
      "source": [
        "def greet_user():\n",
        "  \"\"\"Display a simple greeting.\"\"\"\n",
        "  print(\"Hello!\")\n",
        "  \n",
        "greet_user()"
      ]
    },
    {
      "cell_type": "markdown",
      "metadata": {
        "id": "qY3mffaDF99i"
      },
      "source": [
        "## Pasar información a una función\n",
        "\n",
        "Modificada ligeramente, la función greet_user () no solo puede decirle al usuario ¡Hola! pero también salúdalos por su nombre. Para que la función haga esto, ingrese el nombre de usuario entre paréntesis de la definición de la función en def greet_user (). Al agregar el nombre de usuario aquí, permite que la función acepte cualquier valor de nombre de usuario que especifique. La función ahora espera que proporcione un valor para el nombre de usuario cada vez que lo llame. Cuando llamas a greet_user (), puedes pasarle un nombre, como 'jesse', entre paréntesis:"
      ]
    },
    {
      "cell_type": "code",
      "execution_count": null,
      "metadata": {
        "colab": {
          "base_uri": "https://localhost:8080/"
        },
        "id": "K1yvq25iFyxz",
        "outputId": "af447dd1-71c8-40f2-bd5b-8fc0ad59bd70"
      },
      "outputs": [
        {
          "name": "stdout",
          "output_type": "stream",
          "text": [
            "Hello, Pikachu!\n"
          ]
        }
      ],
      "source": [
        "def greet_user(username):\n",
        "    \"\"\"Display a simple greeting.\"\"\"\n",
        "    print(f\"Hello, {username.title()}!\")\n",
        "    \"\"\"\n",
        "    print(f\"{}\")\n",
        "    A formatted string literal or f-string is a string literal that is prefixed with 'f' or 'F'. \n",
        "    These strings may contain replacement fields, which are expressions delimited by curly braces {}. \n",
        "    \"\"\"\n",
        "\n",
        "greet_user('Pikachu')"
      ]
    },
    {
      "cell_type": "markdown",
      "metadata": {
        "id": "FcXBsMgNGhRG"
      },
      "source": [
        "## Pasar argumentos\n",
        "\n",
        "Dado que la definición de una función puede tener varios parámetros, una llamada a la función puede necesitar varios argumentos. Puede pasar argumentos a sus funciones de varias formas. Puede utilizar argumentos posicionales, que deben estar en el mismo orden en que se escribieron los parámetros; argumentos de palabras clave, donde cada argumento consta de un nombre de variable y un valor; y listas y diccionarios de valores. Veamos cada uno de estos por turno."
      ]
    },
    {
      "cell_type": "code",
      "execution_count": null,
      "metadata": {
        "id": "AzvtlwdfGwCz"
      },
      "outputs": [],
      "source": [
        "def describe_pet(animal_type, pet_name):\n",
        "       \"\"\"Display information about a pet.\"\"\"\n",
        "       print(f\"\\nTengo un {animal_type}.\")\n",
        "       print(f\"Mi {animal_type} se llama {pet_name.title()}.\")\n",
        "\n",
        "describe_pet('hamster', 'harry')"
      ]
    },
    {
      "cell_type": "markdown",
      "metadata": {
        "id": "DL9a2HsvHD1r"
      },
      "source": [
        "### Argumentos de palabras clave\n",
        "Un argumento de palabra clave es un par de nombre-valor que se pasa a una función. Asocia directamente el nombre y el valor dentro del argumento, por lo que cuando pasa el argumento a la función, no hay confusión (no terminará con un Harry llamado Hamster). Los argumentos de palabras clave lo liberan de tener que preocuparse por ordenar correctamente sus argumentos en la llamada a la función y aclaran el papel de cada valor en la llamada a la función."
      ]
    },
    {
      "cell_type": "code",
      "execution_count": null,
      "metadata": {
        "id": "pnyv8nxdHGiq"
      },
      "outputs": [],
      "source": [
        "def describe_pet(animal_type, pet_name):\n",
        "       \"\"\"Display information about a pet.\"\"\"\n",
        "       print(f\"\\nTengo un {animal_type}.\")\n",
        "       print(f\"Mi {animal_type} se llama {pet_name.title()}.\")\n",
        "\n",
        "describe_pet(animal_type='hamster', pet_name='harry')"
      ]
    },
    {
      "cell_type": "code",
      "execution_count": null,
      "metadata": {
        "id": "sLll5q-HHMHI"
      },
      "outputs": [],
      "source": [
        "describe_pet(pet_name='harry', animal_type='hamster')"
      ]
    },
    {
      "cell_type": "markdown",
      "metadata": {
        "id": "WMef9asvHWQ_"
      },
      "source": [
        "## Valores predeterminados\n",
        "Al escribir una función, puede definir un valor predeterminado para cada parámetro. Si se proporciona un argumento para un parámetro en la llamada a la función, Python usa el valor del argumento. De lo contrario, utiliza el valor predeterminado del parámetro. Entonces, cuando define un valor predeterminado para un parámetro, puede excluir el argumento correspondiente que normalmente escribiría en la llamada a la función. El uso de valores predeterminados puede simplificar las llamadas a funciones y aclarar las formas en que se utilizan normalmente."
      ]
    },
    {
      "cell_type": "code",
      "execution_count": null,
      "metadata": {
        "colab": {
          "base_uri": "https://localhost:8080/"
        },
        "id": "jLhqNHcdHZit",
        "outputId": "fa83d19b-2e5b-4cc5-d605-bbc7737bf4d8"
      },
      "outputs": [
        {
          "name": "stdout",
          "output_type": "stream",
          "text": [
            "\n",
            "Tengo un perro.\n",
            "Mi perro se llama Willie.\n"
          ]
        }
      ],
      "source": [
        "def describe_pet(pet_name, animal_type='perro'):\n",
        "    \"\"\"Display information about a pet.\"\"\"\n",
        "    print(f\"\\nTengo un {animal_type}.\")\n",
        "    print(f\"Mi {animal_type} se llama {pet_name.title()}.\")\n",
        "\n",
        "describe_pet(pet_name='willie')"
      ]
    },
    {
      "cell_type": "markdown",
      "metadata": {
        "id": "WV0mIlYrHkYE"
      },
      "source": [
        "## Valores devueltos\n",
        "\n",
        "Una función no siempre tiene que mostrar su salida directamente. En cambio, puede procesar algunos datos y luego devolver un valor o un conjunto de valores. El valor que devuelve la función se llama valor de retorno. La declaración de retorno toma un valor del interior de una función y lo envía de regreso a la línea que llamó a la función. Los valores de retorno le permiten mover gran parte del trabajo pesado de su programa a funciones, lo que puede simplificar el cuerpo de su programa."
      ]
    },
    {
      "cell_type": "code",
      "execution_count": null,
      "metadata": {
        "id": "nxS0YiwfHj59"
      },
      "outputs": [],
      "source": [
        "def get_formatted_name(first_name, last_name):\n",
        "       \"\"\"Return a full name, neatly formatted.\"\"\"\n",
        "       full_name = f\"{first_name} {last_name}\"\n",
        "       return full_name.title()"
      ]
    },
    {
      "cell_type": "code",
      "execution_count": null,
      "metadata": {
        "id": "FmcFL2u1H1e3"
      },
      "outputs": [],
      "source": [
        "musician = get_formatted_name('jimi', 'hendrix') # Llamada a la función, envío parámetros  \n",
        "print(musician)"
      ]
    },
    {
      "cell_type": "markdown",
      "metadata": {
        "id": "qAZkP0cbIHuw"
      },
      "source": [
        "## Hacer un argumento opcional\n",
        "\n",
        "Para que el segundo nombre sea opcional, podemos darle al argumento middle_name un valor predeterminado vacío e ignorar el argumento a menos que el usuario proporcione un valor. Para que get_formatted_name () funcione sin un segundo nombre, establecemos el valor predeterminado de middle_name en una cadena vacía y lo movemos al final de la lista de parámetros:"
      ]
    },
    {
      "cell_type": "code",
      "execution_count": null,
      "metadata": {
        "id": "ndVHoL9OIG4S"
      },
      "outputs": [],
      "source": [
        "def get_formatted_name(first_name, last_name, middle_name=''):\n",
        "       \"\"\"Return a full name, neatly formatted.\"\"\"\n",
        "       if middle_name:\n",
        "           full_name = f\"{first_name} {middle_name} {last_name}\"\n",
        "       else:\n",
        "           full_name = f\"{first_name} {last_name}\"\n",
        "       return full_name.title()"
      ]
    },
    {
      "cell_type": "code",
      "execution_count": null,
      "metadata": {
        "id": "RSsqyjs-IZDo"
      },
      "outputs": [],
      "source": [
        "musician = get_formatted_name('jimi', 'hendrix')\n",
        "print(musician)"
      ]
    },
    {
      "cell_type": "code",
      "execution_count": null,
      "metadata": {
        "id": "M5eSAk5NIatJ"
      },
      "outputs": [],
      "source": [
        "musician = get_formatted_name('john', 'hooker', 'lee')\n",
        "print(musician)"
      ]
    },
    {
      "cell_type": "markdown",
      "metadata": {
        "id": "3U8GJJTKIpNt"
      },
      "source": [
        "## Pasando una lista\n",
        "\n",
        "A menudo, le resultará útil pasar una lista a una función, ya sea una lista de nombres, números u objetos más complejos, como diccionarios. Cuando pasa una lista a una función, la función obtiene acceso directo al contenido de la lista. Usemos funciones para que el trabajo con listas sea más eficiente.\n",
        "\n",
        "Digamos que tenemos una lista de usuarios y queremos imprimir un saludo para cada uno. El siguiente ejemplo envía una lista de nombres a una función llamada greet_users (), que saluda a cada persona en la lista individualmente"
      ]
    },
    {
      "cell_type": "code",
      "execution_count": null,
      "metadata": {
        "id": "7aKyw6MYIsSJ"
      },
      "outputs": [],
      "source": [
        "def greet_users(names):\n",
        "       \"\"\"Print a simple greeting to each user in the list.\"\"\"\n",
        "       for name in names:\n",
        "           msg = f\"Hello, {name.title()}!\"\n",
        "           print(msg)"
      ]
    },
    {
      "cell_type": "code",
      "execution_count": null,
      "metadata": {
        "colab": {
          "base_uri": "https://localhost:8080/"
        },
        "id": "4MlbRxtVIuzZ",
        "outputId": "91e74b86-beb3-446f-f19e-f81ca3552310"
      },
      "outputs": [
        {
          "name": "stdout",
          "output_type": "stream",
          "text": [
            "Hello, Deadpool!\n",
            "Hello, Cable!\n",
            "Hello, Wolverine!\n"
          ]
        }
      ],
      "source": [
        "usernames = ['Deadpool', 'Cable', 'Wolverine']\n",
        "greet_users(usernames)"
      ]
    },
    {
      "cell_type": "markdown",
      "metadata": {
        "id": "UbdApiC_JvUC"
      },
      "source": [
        "## Modificar una lista en una función\n",
        "\n",
        "Cuando pasa una lista a una función, la función puede modificar la lista. Cualquier cambio realizado en la lista dentro del cuerpo de la función es permanente, lo que le permite trabajar de manera eficiente incluso cuando se trata de grandes cantidades de datos.\n",
        "\n",
        "Considere una empresa que crea modelos impresos en 3D de diseños que envían los usuarios. Los diseños que deben imprimirse se almacenan en una lista y, después de imprimirse, se mueven a una lista separada. El siguiente código hace esto sin usar funciones:"
      ]
    },
    {
      "cell_type": "code",
      "execution_count": null,
      "metadata": {
        "id": "YZXouwRWJM81"
      },
      "outputs": [],
      "source": [
        "def print_models(unprinted_designs, completed_models):\n",
        "       \"\"\"\n",
        "       Simulate printing each design, until none are left.\n",
        "       Move each design to completed_models after printing.\n",
        "       \"\"\"\n",
        "       while unprinted_designs:\n",
        "           current_design = unprinted_designs.pop()\n",
        "           print(f\"Printing model: {current_design}\")\n",
        "           completed_models.append(current_design)\n",
        "\n",
        "def show_completed_models(completed_models):\n",
        "       \"\"\"Show all the models that were printed.\"\"\"\n",
        "       print(\"\\nThe following models have been printed:\")\n",
        "       for completed_model in completed_models:\n",
        "           print(completed_model)\n",
        "\n"
      ]
    },
    {
      "cell_type": "code",
      "execution_count": null,
      "metadata": {
        "id": "0AhoO0u5JS6S"
      },
      "outputs": [],
      "source": [
        "unprinted_designs = ['phone case', 'robot pendant', 'dodecahedron']\n",
        "completed_models = []\n",
        "print (unprinted_designs)\n",
        "print (completed_models)"
      ]
    },
    {
      "cell_type": "code",
      "execution_count": null,
      "metadata": {
        "id": "PwrC-TYJJo_B"
      },
      "outputs": [],
      "source": [
        "print_models(unprinted_designs, completed_models)\n",
        "show_completed_models(completed_models)"
      ]
    },
    {
      "cell_type": "code",
      "execution_count": null,
      "metadata": {
        "id": "SW9ZpPvXJSuG"
      },
      "outputs": [],
      "source": [
        "print (unprinted_designs)\n",
        "print (completed_models)"
      ]
    }
  ],
  "metadata": {
    "colab": {
      "name": "Funciones.ipynb",
      "provenance": [],
      "authorship_tag": "ABX9TyNM2WnNcK4kwQ9qnTtvpDKF",
      "include_colab_link": true
    },
    "kernelspec": {
      "display_name": "Python 3 (ipykernel)",
      "language": "python",
      "name": "python3"
    },
    "language_info": {
      "codemirror_mode": {
        "name": "ipython",
        "version": 3
      },
      "file_extension": ".py",
      "mimetype": "text/x-python",
      "name": "python",
      "nbconvert_exporter": "python",
      "pygments_lexer": "ipython3",
      "version": "3.8.15"
    }
  },
  "nbformat": 4,
  "nbformat_minor": 0
}