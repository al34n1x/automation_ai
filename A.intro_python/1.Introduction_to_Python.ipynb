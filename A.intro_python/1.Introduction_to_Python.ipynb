{
 "cells": [
  {
   "cell_type": "markdown",
   "metadata": {
    "colab_type": "text",
    "id": "view-in-github"
   },
   "source": [
    "<a href=\"https://colab.research.google.com/github/al34n1x/DataScience/blob/master/1.Intro/Introduction_to_Python.ipynb\" target=\"_parent\"><img src=\"https://colab.research.google.com/assets/colab-badge.svg\" alt=\"Open In Colab\"/></a>"
   ]
  },
  {
   "cell_type": "markdown",
   "metadata": {
    "id": "vFTx5oYJHM6O"
   },
   "source": [
    "<div style=\"text-align: center\"><img src=\"https://www.python.org/static/img/python-logo.png\"></div>"
   ]
  },
  {
   "cell_type": "markdown",
   "metadata": {
    "colab_type": "toc",
    "id": "v7BMbzyW5Bup"
   },
   "source": [
    ">[Una pequeña introducción Python](#scrollTo=7Qz2f4phHM6P)\n",
    "\n",
    ">>[Comentarios en Python](#scrollTo=IR6uX8fzHM6Q)\n",
    "\n",
    ">>[Veamos tipo de datos](#scrollTo=iSSGZZsZHM6U)\n",
    "\n",
    ">>>[Números](#scrollTo=_xNQGfIUHM6U)\n",
    "\n",
    ">>>[Strings (Cadenas)](#scrollTo=8RT2nYKVHM6_)\n",
    "\n",
    ">[Concatenación](#scrollTo=o04fQKKuHM7g)\n",
    "\n",
    ">>>[Lists](#scrollTo=SjCaRJXrHM8S)\n",
    "\n",
    ">>[Primeros pasos en programación](#scrollTo=gm60ZbW8HM8u)\n",
    "\n",
    ">[Flujo de control](#scrollTo=ofpJkvSHqiX6)\n",
    "\n",
    ">>[Control IF](#scrollTo=m5iWjdMLrVsr)\n",
    "\n",
    ">>[Ciclo FOR](#scrollTo=-PxUh1WPsC9O)\n",
    "\n",
    ">[Aprende más](#scrollTo=sxfJVljcHM8z)\n",
    "\n"
   ]
  },
  {
   "cell_type": "markdown",
   "metadata": {
    "id": "7Qz2f4phHM6P"
   },
   "source": [
    "# Una pequeña introducción Python\n",
    "\n",
    "\n",
    "Python es un lenguaje de programación, particularmente facil de aprender, y soportado por todos los sistemas operativos del mercado. \n",
    "Es soportado por una una gran comunidad y y posee infinidad de librerías disponibles, que van desde crear interfaces de usuario, scripts, parseo de datos y es ampliamente utilizado en el análisis de datos y machine learning.\n",
    "\n",
    "Puedes aprender más sobre el lenguaje en [python.org](https://www.python.org/) y en [Python for Beginners](https://www.python.org/about/gettingstarted/).\n",
    "\n",
    "La idea de las siguientes clases no es solo introducirlos en el mundo de Python orientado a el análisis de datos, sino en la utilización de Notebooks, herramienta escencial para poder desarrollar sus actividades.\n",
    "\n",
    "Al momento de escribir este documento, estaremos trabajando con Python 3.9, pero generalmente, lo que hagamos es aplicable a cualquier version de Python 3.x. Sin embargo, cabe destacar que hay usuarios que utilizan por diferentes razones, Python 2.x que ha quedado relegado. Por temas de compatibilidad y para evitar problemas durante el transcurso de la cursada, si desean usar su propia laptop/pc y ejecutar localmente los ejercicios, verifiquen que se encuentren trabajando en Python 3.x\n",
    "\n",
    "\n",
    "&nbsp; &nbsp; &nbsp; &nbsp;<img src=\"https://media.tenor.com/images/8548721849652c377413cd5312a077aa/tenor.gif\"  width=\"300\" height=\"250\" />\n",
    "\n",
    "> **Note**: El siguiente notebook ha sido diseñado para ser ejecutado en las celdas, y varios bloques de código contienen errores agregados adrede con el objetivo de poder identificar los problemas.\n",
    "Por lo que se recomienda ejecutar los siguientes ejercicios por celdas. De ejectuarlo por con la opción **Run All**, parte de los bloques podrían dar errores.\n"
   ]
  },
  {
   "cell_type": "markdown",
   "metadata": {
    "id": "IR6uX8fzHM6Q"
   },
   "source": [
    "## Comentarios en Python\n",
    "\n",
    "Empecemos por el principio. En cualquier lenguaje de programación es importante documentar, y Python no es la excepción. Se recomienda siempre agregar comentario, particularmente a bloque de código que necesitan un contexto para comprender su funcionamiento. Para ello, en Python, como en otros lenguajes de programación, para comentar utilizamos el `#`. Agregando ese símbolo convertirá a lo que venga detras en un comentario, y sera ignorado por completo por el inteprete de Python.\n",
    "\n",
    "Ejemplo :"
   ]
  },
  {
   "cell_type": "code",
   "execution_count": null,
   "metadata": {
    "id": "UDNspB7xHM6Q"
   },
   "outputs": [],
   "source": [
    "# Soy un hermoso comentario\n",
    "spam = 1  # Este es otro hermoso comentario\n",
    "          # ... ok.. no creo que sea tan hermoso\n",
    "text = \"# Piensas que soy un comentario? ERROR! como me encuentro entre \\\" \\\" soy una cadena de texto asignada, en este caso a una variable.\"\n",
    "print(text) # Despues explicaremos como funciona el print\n"
   ]
  },
  {
   "cell_type": "markdown",
   "metadata": {
    "id": "iSSGZZsZHM6U"
   },
   "source": [
    "## Veamos tipo de datos\n",
    "\n",
    "Exploremos números, cadenas, y listas. Particularmente las listas serán de utilidad para el manejo de datos que veremos en los siguientes ejercicios"
   ]
  },
  {
   "cell_type": "markdown",
   "metadata": {
    "id": "_xNQGfIUHM6U"
   },
   "source": [
    "### Números\n",
    "\n",
    "A diferencia de lenguajes compilados como Java o C, Python utiliza un interprete para poder leer las sentencias y ejecutar el programa.\n",
    "Que significa eso? que podemos dialogar directamente con Python sin necesidad de pasar por complejos procesos de desarrollo y compilación de programas para poder realizar pruebas.\n",
    "\n",
    "Los operadores que utilizaremos son los ampliamente conocidos, como `+`, `-`, y `/`. Algo a recordar es que los (`()`) se utilizan para agrupar y ordenar el orden de precedencia. No es lo mismo `(1+2)*3` que `1+(2*3)`\n",
    "Ejemplo:"
   ]
  },
  {
   "cell_type": "code",
   "execution_count": null,
   "metadata": {
    "id": "A7NNPIZaHM6V"
   },
   "outputs": [],
   "source": [
    "2 + 2"
   ]
  },
  {
   "cell_type": "code",
   "execution_count": null,
   "metadata": {
    "id": "zTd1BK8aHM6X"
   },
   "outputs": [],
   "source": [
    "50 - 5*6"
   ]
  },
  {
   "cell_type": "code",
   "execution_count": null,
   "metadata": {
    "id": "dX8SNTiJHM6Z"
   },
   "outputs": [],
   "source": [
    "(50 - 5*6) / 4"
   ]
  },
  {
   "cell_type": "markdown",
   "metadata": {
    "id": "GeYrsh3wMbVW"
   },
   "source": [
    "Es tu turno, realiza un cálculo y "
   ]
  },
  {
   "cell_type": "code",
   "execution_count": null,
   "metadata": {
    "id": "MAjGKjhSHM6c"
   },
   "outputs": [],
   "source": [
    " 2 + 2 * 3    # <- ingresa una operación utilizando operadores básicos y paréntesis"
   ]
  },
  {
   "cell_type": "markdown",
   "metadata": {
    "id": "acsCyFRNHM6e"
   },
   "source": [
    "Los números enteros son por ejemplo `2, 3, 4, 5`, y son del tipo [`int`](https://docs.python.org/3.5/library/functions.html#int), y los fraccionarios  `2.5, 3.14, 4.5, 5.1` son del tipo [`float`](https://docs.python.org/3.5/library/functions.html#float)\n",
    "\n",
    "Algo a tener en cuenta, la división siempre retorna un `float`. Ahora, si quieres obtener solo la parte entrea puedas utilizar el operador `//`; o puedes calcular el resto usando `%`\n",
    "\n",
    "Veamos unos ejemplos:"
   ]
  },
  {
   "cell_type": "code",
   "execution_count": null,
   "metadata": {
    "id": "h_64nOLaHM6e"
   },
   "outputs": [],
   "source": [
    "17 / 3  # clasica división"
   ]
  },
  {
   "cell_type": "code",
   "execution_count": null,
   "metadata": {
    "id": "xZtK7I97HM6h"
   },
   "outputs": [],
   "source": [
    "17 // 3  # División entera "
   ]
  },
  {
   "cell_type": "code",
   "execution_count": null,
   "metadata": {
    "id": "cQk31CiTHM6j"
   },
   "outputs": [],
   "source": [
    "17 % 3  # Resto"
   ]
  },
  {
   "cell_type": "markdown",
   "metadata": {
    "id": "jITaPJwCHM6p"
   },
   "source": [
    "Para calcular potencias, se utiliza el operador `**`"
   ]
  },
  {
   "cell_type": "code",
   "execution_count": null,
   "metadata": {
    "id": "T_Xu795eHM6p"
   },
   "outputs": [],
   "source": [
    "5 ** 2  # 5 al cuadrado"
   ]
  },
  {
   "cell_type": "code",
   "execution_count": null,
   "metadata": {
    "id": "tcPi5ZgmHM6r"
   },
   "outputs": [],
   "source": [
    "2 ** 7  # 2 a la 7"
   ]
  },
  {
   "cell_type": "markdown",
   "metadata": {
    "id": "6NmGwTkOHM6t"
   },
   "source": [
    "`**` tiene precedente sobre `-`; si deseas una base negativa, utiliza paréntesis."
   ]
  },
  {
   "cell_type": "code",
   "execution_count": null,
   "metadata": {
    "id": "222Dkl5lHM6t"
   },
   "outputs": [],
   "source": [
    "-3**2  # mismo resultado -(3**2)"
   ]
  },
  {
   "cell_type": "code",
   "execution_count": null,
   "metadata": {
    "id": "pnQ47cAMHM6v"
   },
   "outputs": [],
   "source": [
    "(-3)**2 # si agregamos paréntesis al número que deseamos potenciar."
   ]
  },
  {
   "cell_type": "markdown",
   "metadata": {
    "id": "zB1jl7CTHM6x"
   },
   "source": [
    "El signo (`=`) asigna el valor a una variable.\n",
    "*Nota: Como hemos comentado, Python es un lenguaje orientado a objetos, por lo que la asignación en realidad es una referencia al objeto en memoria* \n",
    "Veamos unos ejemplos.\n",
    "\n"
   ]
  },
  {
   "cell_type": "code",
   "execution_count": null,
   "metadata": {
    "id": "UPPeyxX3HM6x"
   },
   "outputs": [],
   "source": [
    "ancho = 20\n",
    "alto = 10 * 90\n",
    "ancho * alto"
   ]
  },
  {
   "cell_type": "code",
   "execution_count": null,
   "metadata": {
    "id": "9gZt5lWf7ads"
   },
   "outputs": [],
   "source": [
    "a = 5\n",
    "b = 5\n",
    "print (a)\n",
    "print (b)"
   ]
  },
  {
   "cell_type": "code",
   "execution_count": null,
   "metadata": {
    "id": "OpJy3MWS7gFG"
   },
   "outputs": [],
   "source": [
    "a = 5\n",
    "b = a\n",
    "print (a)\n",
    "print (b)"
   ]
  },
  {
   "cell_type": "code",
   "execution_count": null,
   "metadata": {
    "id": "-cU3V1VK7kYK"
   },
   "outputs": [],
   "source": [
    "c = 10\n",
    "a = 5\n",
    "b = a\n",
    "a = a + 5 #El resultado de esta operación es 10, también lo podemos escribir como a +=5 \n",
    "print (a)\n",
    "print (b)"
   ]
  },
  {
   "cell_type": "markdown",
   "metadata": {
    "id": "o-FAyeQL7xKn"
   },
   "source": [
    "Que sucede? Como se puede observar, `a` apunta al objeto `5`, `b` apunta al mismo objeto que `a`. Ahora, `a` apunta a un nuevo objeto `10`, pero `b` sigue apuntando al objeto original, nunca ha actualizado su referencia, es por ello que el resultado de `b` sigue siendo `5`. \n",
    "Como podrías hacer para actualizar el valor de `b`?"
   ]
  },
  {
   "cell_type": "code",
   "execution_count": null,
   "metadata": {
    "id": "gyqQeG4F8TyN"
   },
   "outputs": [],
   "source": [
    "  b = a  # Ingrese código aquí\n",
    "  print (b)\n",
    "  print (c)"
   ]
  },
  {
   "cell_type": "markdown",
   "metadata": {
    "id": "hzJWxwuBHM6z"
   },
   "source": [
    "Si una variable no se encuentra definida (con valor asignado) se podrá visualizar el siguiente error:"
   ]
  },
  {
   "cell_type": "code",
   "execution_count": null,
   "metadata": {
    "id": "CDYdhC-OHM6z"
   },
   "outputs": [],
   "source": [
    "n  # Intentamos acceder una variable no definida"
   ]
  },
  {
   "cell_type": "markdown",
   "metadata": {
    "id": "LPvDuL47HM65"
   },
   "source": [
    "Cuando nos encontramos en modo interactivo, o en este caso en Jupyter notebooks, la expresión del último comando impreso se asigna a una variable conocida como `_`. Esto significa que puedes seguir usando Python como una calculadora, particularmente simplifica continuar con cálculos que venías desarrollando como parte de tu investigación. "
   ]
  },
  {
   "cell_type": "code",
   "execution_count": null,
   "metadata": {
    "id": "Vg8Ca-i5HM66"
   },
   "outputs": [],
   "source": [
    "impuesto = 12.5 / 100\n",
    "precio = 100.50\n",
    "precio * impuesto"
   ]
  },
  {
   "cell_type": "code",
   "execution_count": null,
   "metadata": {
    "id": "J5Co9W8YHM67"
   },
   "outputs": [],
   "source": [
    "precio + _"
   ]
  },
  {
   "cell_type": "code",
   "execution_count": null,
   "metadata": {
    "id": "HTasx5AwHM69"
   },
   "outputs": [],
   "source": [
    "round(_, 2) # Comando que sirve para redondear resultados, en este caso le estamos solicitando que deje dos dígitos luego de la ,"
   ]
  },
  {
   "cell_type": "markdown",
   "metadata": {
    "id": "8mO1BuIbHM6_"
   },
   "source": [
    "Debes tener en cuenta que la variable `_` es de solo lectura. No se debe asignar valores a la misma. Para ello, crear un nuevo set de variables.\n",
    "Adicionalmente a los tipo de números que hemos visto, Python soporta otros tipos como pueden ser [`Decimal`](https://docs.python.org/3.5/library/decimal.html#decimal.Decimal) y[`Fraction`](https://docs.python.org/3.5/library/fractions.html#fractions.Fraction).\n",
    "Así mismo, Python provee soporte para números complejos [complex numbers](https://docs.python.org/3.5/library/stdtypes.html#typesnumeric), y usa \n",
    "los sufijos `j` o `J`  para indicar la parte imaginaria (`3+5j`).\n"
   ]
  },
  {
   "cell_type": "markdown",
   "metadata": {
    "id": "8RT2nYKVHM6_"
   },
   "source": [
    "### Strings (Cadenas)"
   ]
  },
  {
   "cell_type": "markdown",
   "metadata": {
    "id": "2ECl37CIHM6_"
   },
   "source": [
    "Además de números, Python puede manipular cadenas, una de las principales ventajas de usar Python para el análisis de datos. \n",
    "Las cadenas se encierran entre comillas simples (`'...'`) o comillas dobles (`\"...\"`) dando el mismo resultado.\n",
    "Muy importante, se utiliza el símbolo `\\` para \"escapar\" (evitar que el interprete identifique esa porción de cadena como instrucción) un caracter y poder seguir con la sentencia.\n",
    "\n",
    "Los strings tienen naturaleza de arreglo. Definición sencilla de arreglo: grupo o colección finita, homogénea y ordenada de elementos.\n",
    "\n",
    "![](https://raw.githubusercontent.com/mgaitan/curso-python-cientifico/e0567d7ba49f0deb167fe71b80b404d95d7afb6e/img/index_slicing.png)\n",
    "\n",
    "Para la palabra `Python` : \n",
    "\n",
    "`| P | y | t | h | o | n |`\n",
    "\n",
    "* ⚠️ **¡Las posiciones comienzan en cero!**\n",
    "* ¿Qué posición ocupa la \"h\"?\n",
    "* ¿Cuántas letras tiene la palabra?\n",
    "* ¿Qué posición ocupa la n?\n",
    "* ¿Y la \"y\"?"
   ]
  },
  {
   "cell_type": "code",
   "execution_count": null,
   "metadata": {
    "id": "hundqAgAHM7A"
   },
   "outputs": [],
   "source": [
    "'Pikachu'  # Comillas simples."
   ]
  },
  {
   "cell_type": "code",
   "execution_count": null,
   "metadata": {
    "id": "fbsvUSJ9AOom"
   },
   "outputs": [],
   "source": [
    "'Pickachu \\'n Squirtle'# Usa \\' para escapar el caracter especial, donde lo agregaría?"
   ]
  },
  {
   "cell_type": "code",
   "execution_count": null,
   "metadata": {
    "id": "8067MUe9HM7B"
   },
   "outputs": [],
   "source": [
    "'doesn\\'t'  # Usa \\' para escapar el caracter especial, donde lo agregaría?"
   ]
  },
  {
   "cell_type": "code",
   "execution_count": null,
   "metadata": {
    "id": "cgfPMh0wHM7D"
   },
   "outputs": [],
   "source": [
    "\"doesn't\"  # Otra forma es utiliza doble comillas combinadas con simples"
   ]
  },
  {
   "cell_type": "code",
   "execution_count": null,
   "metadata": {
    "id": "ox2LFW_CHM7F"
   },
   "outputs": [],
   "source": [
    "'\"Yes,\" he said.' # Podemos combinar commilas simples con dobles, por ejemplo para resaltar una comentario"
   ]
  },
  {
   "cell_type": "code",
   "execution_count": null,
   "metadata": {
    "id": "sgIQY5gvHM7H"
   },
   "outputs": [],
   "source": [
    "\"\\\"Yes,\\\" he said.\" # porque usamos el símbolo de \\ aquí?"
   ]
  },
  {
   "cell_type": "markdown",
   "metadata": {
    "id": "wO_ja3tiHM7K"
   },
   "source": [
    "Tanto en el interprete interactivo de Python como en los Jupyter notebooks, la salidad de las cadenas se encierran en comillas y caracteres especiales son escapados con `\\`.\n",
    "Aunque la salida puede lucir diferente comparado con la entrada, las cadenas son equivalentes. La cadena es encerrada en doble comillas si la cadena contiene comillas simples y no comillas dobles, de otra forma la cadena se encierra en comillas simples.\n",
    "La función [`print()`](https://docs.python.org/3.6/library/functions.html#print) produce una salida simple de leer omitiendo las comillas que encierran a la cadena y símbolos escapados. \n"
   ]
  },
  {
   "cell_type": "code",
   "execution_count": null,
   "metadata": {
    "id": "zyh8vAfuHM7K"
   },
   "outputs": [],
   "source": [
    "'\"Pickachu \\'n Squirtle\" son los mejores'\n",
    "a = 5\n",
    "a\n"
   ]
  },
  {
   "cell_type": "code",
   "execution_count": null,
   "metadata": {
    "id": "N5VIAGaKHM7N"
   },
   "outputs": [],
   "source": [
    "print('\"Pickachu \\'n Squirtle\" son los mejores')"
   ]
  },
  {
   "cell_type": "code",
   "execution_count": null,
   "metadata": {
    "id": "Ve3t2UBEHM7O"
   },
   "outputs": [],
   "source": [
    "s = 'Primera Linea.' \n",
    "a = 'Segunda Linea.'  \n",
    "c = 'Tercera linea.'\n",
    "\n",
    "print (s, a, c)\n"
   ]
  },
  {
   "cell_type": "code",
   "execution_count": null,
   "metadata": {
    "id": "5DDMKUtRHM7S"
   },
   "outputs": [],
   "source": [
    " i = 1\n",
    " print ('Hola este es mi primer programa ', i)# Ingrese código"
   ]
  },
  {
   "cell_type": "markdown",
   "metadata": {
    "id": "ZFmtGOPdHM7U"
   },
   "source": [
    "Ahora bien, podemos encontrarnos en situaciones donde no necesitemos escapar un símbolo, y sea de utilidad el caracter `\\` para ser integrado como parte de la cadena final. Para ello utilizamos el operador `r` al comenzar la sentencia. De esta forma, el interprete sabrá que lo que se ingrese como cadena debe mantener ese formato."
   ]
  },
  {
   "cell_type": "code",
   "execution_count": null,
   "metadata": {
    "id": "eqcYllg-HM7U"
   },
   "outputs": [],
   "source": [
    "print('C:\\name_1\\name_2')  # recuerdan que \\n significa nueva línea"
   ]
  },
  {
   "cell_type": "code",
   "execution_count": null,
   "metadata": {
    "id": "XtEdav8aHM7W"
   },
   "outputs": [],
   "source": [
    "print(r'C:\\name_1\\name_2')  # Agregamos el operador r"
   ]
  },
  {
   "cell_type": "markdown",
   "metadata": {
    "id": "hr60TA9EHM7Y"
   },
   "source": [
    "Las Cadenas literales puede ser distribuidas entre multiples líneas utilizando triple comillas ( Seguimos acumulando comillas =) ). `\"\"\"...\"\"\"` o `'''...'''`\n",
    "Los finales de linea son automáticamente incluidos en la cadena. Es posible evitar esto agregando la contra barra `\\` al final de la linea. \n",
    "Por ejemplo sin la `\\` el siguiente ejemplo incluye lineas adicionales al comienzo de la salida.\n"
   ]
  },
  {
   "cell_type": "code",
   "execution_count": null,
   "metadata": {
    "id": "16VkKXSiHM7Y"
   },
   "outputs": [],
   "source": [
    "print(\"\"\"\n",
    "Usage: thingy [OPTIONS]\n",
    "     -h                        Display this usage message\n",
    "     -H hostname               Hostname to connect to\n",
    "\"\"\")"
   ]
  },
  {
   "cell_type": "markdown",
   "metadata": {
    "id": "FStYgv7oHM7b"
   },
   "source": [
    "Agregando  `\\` remueve los saltos adicionales.:"
   ]
  },
  {
   "cell_type": "code",
   "execution_count": null,
   "metadata": {
    "id": "K0O5wZosHM7b"
   },
   "outputs": [],
   "source": [
    "print(\"\"\"\\\n",
    "Usage: thingy [OPTIONS]\n",
    "     -h                        Display this usage message\n",
    "     -H hostname               Hostname to connect to\n",
    "\"\"\")"
   ]
  },
  {
   "cell_type": "markdown",
   "metadata": {
    "id": "_VGVKnY_HM7d"
   },
   "source": [
    "Debido a que Python no provee comentarios multi-lines, desarrolladores generalmente utilizan comillas triples para ese proposito.\n",
    "En los Jupyter notebooks, definen una cadena literal que aparece como salida, ya que el notebook se comporta como un interprete interactivo de python.\n"
   ]
  },
  {
   "cell_type": "code",
   "execution_count": null,
   "metadata": {
    "id": "3cuhDyvoHM7d"
   },
   "outputs": [],
   "source": [
    "\"\"\"\n",
    "Este es un comentario entre comillas triples que incluye nuevas lineas,\n",
    "sinceramente estaba considerando crear mi propia criptomoneda llamada 'Banana'\n",
    "pero alguien se me adelantó y ha iniciado dicho proyecto. Ahora gente puede\n",
    "cambiar dinero por 'Bananas' [BananaCoin](https://bananacoin.io/)\n",
    "\"\"\""
   ]
  },
  {
   "cell_type": "markdown",
   "metadata": {
    "id": "ygJNlSAPHM7g"
   },
   "source": [
    "Por esa razón, la mejor práctica al trabajar y compartir notebooks es utilizar el caracter `#` al comienzo de la línea para iniciar comentarios."
   ]
  },
  {
   "cell_type": "markdown",
   "metadata": {
    "id": "o04fQKKuHM7g"
   },
   "source": [
    "#Concatenación\n",
    "\n",
    "Las cadenas pueden ser *concatenadas* (pegadas) con el operador `+`, y repetidas veces con `*`"
   ]
  },
  {
   "cell_type": "code",
   "execution_count": null,
   "metadata": {
    "id": "fOpxzkxZHM7g"
   },
   "outputs": [],
   "source": [
    "# 3 veces 'picka', seguido de 'chu'\n",
    "3 * 'picka' + 'chu'"
   ]
  },
  {
   "cell_type": "markdown",
   "metadata": {
    "id": "RrRApouGHM7i"
   },
   "source": [
    "Dos o más *Cadenas literales* encerradas en comillas puestas una al lado de otra, son automaticamente concatenadas.\n"
   ]
  },
  {
   "cell_type": "code",
   "execution_count": null,
   "metadata": {
    "id": "XCakuMyoHM7i"
   },
   "outputs": [],
   "source": [
    "'No me agrada la cadena de la derecha' 'Suck it up bro!'"
   ]
  },
  {
   "cell_type": "markdown",
   "metadata": {
    "id": "xMzAoCfwHM7k"
   },
   "source": [
    "La concatenación automática funciona solamente con dos cadenas literales, no funciona con variables o expresiones. "
   ]
  },
  {
   "cell_type": "code",
   "execution_count": null,
   "metadata": {
    "id": "oBLCa4txHM7k"
   },
   "outputs": [],
   "source": [
    "prefix = 'Picka'\n",
    "prefix 'chu'  # No se puede concatenar una variable con una cadena"
   ]
  },
  {
   "cell_type": "markdown",
   "metadata": {
    "id": "oFEU0BzzHM7m"
   },
   "source": [
    "La siguiente linea también dará un error:"
   ]
  },
  {
   "cell_type": "code",
   "execution_count": null,
   "metadata": {
    "id": "WNs1iRezHM7n"
   },
   "outputs": [],
   "source": [
    "('picka' * 3) 'chu'"
   ]
  },
  {
   "cell_type": "markdown",
   "metadata": {
    "id": "AgyTQMnNHM7o"
   },
   "source": [
    "Para concatenar dos variables, o variables con literales utilizamos el operador `+`:\n",
    "\n"
   ]
  },
  {
   "cell_type": "code",
   "execution_count": null,
   "metadata": {
    "id": "ey3_cKUHHM7p"
   },
   "outputs": [],
   "source": [
    "prefix = 'Picka'\n",
    "prefix + 'chu'"
   ]
  },
  {
   "cell_type": "markdown",
   "metadata": {
    "id": "ygL8t4MRHM7q"
   },
   "source": [
    "Cuando es útil la concatenación automática? Cuando quieres separar dos cadenas que son particularmente largas.\n"
   ]
  },
  {
   "cell_type": "code",
   "execution_count": null,
   "metadata": {
    "id": "u0B9nSxpHM7r"
   },
   "outputs": [],
   "source": [
    "text = ('Esto es una línea de código que no quiero que se extienda mucho,' \n",
    "              'por ello, sigo debajo lo que me resulta cómodo .')\n",
    "\n",
    "print (text)"
   ]
  },
  {
   "cell_type": "markdown",
   "metadata": {
    "id": "MXepKrqfHM7s"
   },
   "source": [
    "Ahora empecemos con cosas avanzadas. Las cadenas pueden ser *indexadas*, con el primer caracter comenzando en 0. Quedense con esa idea, porque será interesante al momento de ver listas.\n"
   ]
  },
  {
   "cell_type": "code",
   "execution_count": null,
   "metadata": {
    "id": "-2NI1t_VHM7t"
   },
   "outputs": [],
   "source": [
    "word = 'Python'\n",
    "word[0]  # Posición 0 de la cadena"
   ]
  },
  {
   "cell_type": "code",
   "execution_count": null,
   "metadata": {
    "id": "xlrdu7YdHM7u"
   },
   "outputs": [],
   "source": [
    "word[5]  # Posición 5 de la cadena"
   ]
  },
  {
   "cell_type": "markdown",
   "metadata": {
    "id": "ivIIeFerHM7v"
   },
   "source": [
    "Los índices pueden ser negativos, esto significa que comienza a contar desde el final de la cadena. Tener en cuenta que los índices negativos comienzan con -1, que viene a ser equivalente a 0 comenzando desde la izquierda.\n"
   ]
  },
  {
   "cell_type": "code",
   "execution_count": null,
   "metadata": {
    "id": "aqSvvAfPHM7v"
   },
   "outputs": [],
   "source": [
    "word[-3]  # Teniendo en cuenta la última cadena, -1 es equivalente a 5"
   ]
  },
  {
   "cell_type": "code",
   "execution_count": null,
   "metadata": {
    "id": "e2XMMwZGHM7x"
   },
   "outputs": [],
   "source": [
    "word[-2]  # segundo caracter de la cadena comenzando desde el final"
   ]
  },
  {
   "cell_type": "markdown",
   "metadata": {
    "id": "DlwOH_KQHM70"
   },
   "source": [
    "Addicionalmente a los índices, Python soporta *Rebanar* (Extraer) una subcadena. Para realizarlo, debes indicar el rango de comienzo y final utilizando la siguiente notación entre llaves `start:end`.\n",
    "Algo a tener en cuenta **MUY IMPORTANTE** es que el caracter de comienzo `start` es incluido en la subcadena, mientras que el de `end` no lo es.\n"
   ]
  },
  {
   "cell_type": "code",
   "execution_count": null,
   "metadata": {
    "id": "wRWw9x2bHM71"
   },
   "outputs": [],
   "source": [
    "word[0:2]  # Aqui tomamos rango de 0:2, pero toma Py como resultado, incluye el primer caracter pero excluye el último"
   ]
  },
  {
   "cell_type": "code",
   "execution_count": null,
   "metadata": {
    "id": "g5pTM3TkHM73"
   },
   "outputs": [],
   "source": [
    "word[2:5]  # "
   ]
  },
  {
   "cell_type": "markdown",
   "metadata": {
    "id": "Qi9Jv112HM75"
   },
   "source": [
    "Si se omite el rango de inicio, Python interpreta que se debe comenzar desde la posición 0."
   ]
  },
  {
   "cell_type": "code",
   "execution_count": null,
   "metadata": {
    "id": "Dw6KJTr1HM75"
   },
   "outputs": [],
   "source": [
    "word[:2]   # Caracteres desde el comienzo hasta el 2 sin incluirlo"
   ]
  },
  {
   "cell_type": "code",
   "execution_count": null,
   "metadata": {
    "id": "scbDyS3FHM78"
   },
   "outputs": [],
   "source": [
    "\n",
    "word[-2:]  # Que sucede aquí?"
   ]
  },
  {
   "cell_type": "markdown",
   "metadata": {
    "id": "jtQeREFRHM7_"
   },
   "source": [
    "Cual sería el resultado de la siguiente operación? `s[:i] + s[i:]`? será `s` \n"
   ]
  },
  {
   "cell_type": "code",
   "execution_count": null,
   "metadata": {
    "id": "FSOBCVSmHM7_"
   },
   "outputs": [],
   "source": [
    "word[:2] + word[2:]"
   ]
  },
  {
   "cell_type": "code",
   "execution_count": null,
   "metadata": {
    "id": "-NgqpuPhuBXL"
   },
   "outputs": [],
   "source": [
    "word[:2]"
   ]
  },
  {
   "cell_type": "code",
   "execution_count": null,
   "metadata": {
    "id": "Qsk63IF_uDL6"
   },
   "outputs": [],
   "source": [
    "word[2:]"
   ]
  },
  {
   "cell_type": "code",
   "execution_count": null,
   "metadata": {
    "id": "_RkJA0L-HM8D"
   },
   "outputs": [],
   "source": [
    "word[:4] + word[4:]"
   ]
  },
  {
   "cell_type": "markdown",
   "metadata": {
    "id": "x5CzfSnjHM8F"
   },
   "source": [
    "Una forma de recorda como `slices` trabaja es pensar en los índices como punteros entre caracteres, con el primer carácter comenzando desde izquierda con el índice 0.\n"
   ]
  },
  {
   "cell_type": "markdown",
   "metadata": {
    "id": "wevW9QDeHM8G"
   },
   "source": [
    "Si utilizamos un índice fuera del rango de la cadena, obtendremos un mensaje de error.\n",
    "\n",
    "\n"
   ]
  },
  {
   "cell_type": "code",
   "execution_count": null,
   "metadata": {
    "id": "ED4CQuCcHM8G"
   },
   "outputs": [],
   "source": [
    "word[42]  # The word only has 6 characters."
   ]
  },
  {
   "cell_type": "markdown",
   "metadata": {
    "id": "YT2zePDGHM8I"
   },
   "source": [
    "Sin embargo, utilizando un rango, podemos extraer una subcadena independientemente del largo por default que tenga el tamaño de la cadena original. Esto es útil cuando quieres extraer algo particular sin tener en cuenta la longitud real de la cadena.\n"
   ]
  },
  {
   "cell_type": "code",
   "execution_count": null,
   "metadata": {
    "id": "erA1crqXHM8I"
   },
   "outputs": [],
   "source": [
    "word[2:100]"
   ]
  },
  {
   "cell_type": "code",
   "execution_count": null,
   "metadata": {
    "id": "48pdgKygHM8K"
   },
   "outputs": [],
   "source": [
    "word[42:]"
   ]
  },
  {
   "cell_type": "markdown",
   "metadata": {
    "id": "9KauhDFKHM8L"
   },
   "source": [
    "Las cadenas de caracteres es [inmutable](https://docs.python.org/3.5/glossary.html#term-immutable), lo que significa que n puede ser cambiada. Por lo que asignarle un valor a una posición de índice de una cadena resulta en error."
   ]
  },
  {
   "cell_type": "code",
   "execution_count": null,
   "metadata": {
    "id": "gtbja1SVHM8L"
   },
   "outputs": [],
   "source": [
    "word[0] = 'J'"
   ]
  },
  {
   "cell_type": "markdown",
   "metadata": {
    "id": "H2ItFUk7HM8O"
   },
   "source": [
    "Puedes concatenar una cadena con un `slide` (subcadena). Como lo harías?"
   ]
  },
  {
   "cell_type": "code",
   "execution_count": null,
   "metadata": {
    "id": "ORWcz5K_HM8O"
   },
   "outputs": [],
   "source": [
    "'J'+ word[4:] # Como se concatena J con la subcadena de word? Recuerden que word=python"
   ]
  },
  {
   "cell_type": "markdown",
   "metadata": {
    "id": "7iSQDvkpHM8R"
   },
   "source": [
    "Algo que usarás a lo largo de tu curso, es la función [`len()`](https://docs.python.org/3.5/library/functions.html#len) de Python, la cual retorna la longitud de una cadena.\n"
   ]
  },
  {
   "cell_type": "code",
   "execution_count": null,
   "metadata": {
    "id": "yzc9Uv__HM8R"
   },
   "outputs": [],
   "source": [
    "s = 'Tony no merecía morir, Te quiero 3000'\n",
    "len(s)"
   ]
  },
  {
   "cell_type": "markdown",
   "metadata": {
    "id": "SjCaRJXrHM8S"
   },
   "source": [
    "### Lists"
   ]
  },
  {
   "cell_type": "markdown",
   "metadata": {
    "id": "AdovcorYHM8T"
   },
   "source": [
    "Python reconoce un número de tipos de datos compuestos que son usado para agrupar valores. La forma más versátil es mediante el uso de [*list*](https://docs.python.org/3.5/library/stdtypes.html#typesseq-list), que pueden ser escritas como items separados por comas `,` entre `[]`. La listas pueden contienen diferente tipos de ítems, pero usualmente son todos del mismo tipo."
   ]
  },
  {
   "cell_type": "code",
   "execution_count": null,
   "metadata": {
    "id": "VQEoSq-OHM8T"
   },
   "outputs": [],
   "source": [
    "deadpool = ['banana', 'unicornio', 'Dopinder', 'Cable', 'Colossus', '<3 Wolverine <3']\n",
    "deadpool"
   ]
  },
  {
   "cell_type": "markdown",
   "metadata": {
    "id": "0VOPmPmkHM8V"
   },
   "source": [
    "Recuerdan las cadenas? Con las lista podemos utilizar índices para ubicar elementos y \"Rebarnarlos\" ."
   ]
  },
  {
   "cell_type": "code",
   "execution_count": null,
   "metadata": {
    "id": "TfQjQnrxHM8V"
   },
   "outputs": [],
   "source": [
    "deadpool[0]  # Retorna el primer elemento."
   ]
  },
  {
   "cell_type": "code",
   "execution_count": null,
   "metadata": {
    "id": "5Q48YxAPHM8X"
   },
   "outputs": [],
   "source": [
    "deadpool[-1]"
   ]
  },
  {
   "cell_type": "code",
   "execution_count": null,
   "metadata": {
    "id": "CPrkHkTvHM8Y"
   },
   "outputs": [],
   "source": [
    "deadpool[-3:]  # Slicing retorna una lista de items comenzando de la 3 posición desde el final"
   ]
  },
  {
   "cell_type": "markdown",
   "metadata": {
    "id": "QEfInkLVHM8a"
   },
   "source": [
    "Todas las operaciones `slice` retornan una nueva lista de elementos.\n"
   ]
  },
  {
   "cell_type": "code",
   "execution_count": null,
   "metadata": {
    "id": "JQ-4X8L2HM8a"
   },
   "outputs": [],
   "source": [
    "deadpool[:] #Que nos dará esto? "
   ]
  },
  {
   "cell_type": "markdown",
   "metadata": {
    "id": "sFJzRFEGHM8c"
   },
   "source": [
    "Listas soportan concatenación con el operdar `+`\n"
   ]
  },
  {
   "cell_type": "code",
   "execution_count": null,
   "metadata": {
    "id": "lRp0OFnzHM8c"
   },
   "outputs": [],
   "source": [
    "deadpool + ['Vanessa', 'Spidy', 'Negasonic Teenage Warhead', 'Popcorn']"
   ]
  },
  {
   "cell_type": "markdown",
   "metadata": {
    "id": "Cxlncf2jHM8d"
   },
   "source": [
    "A diferencia de las cadenas que son [inmutables](https://docs.python.org/3.5/glossary.html#term-immutable), las listas pueden ser [modificadas](https://docs.python.org/3.5/glossary.html#term-mutable)\n"
   ]
  },
  {
   "cell_type": "code",
   "execution_count": null,
   "metadata": {
    "id": "1M7872b0HM8e"
   },
   "outputs": [],
   "source": [
    "numeros_al_cubo = [1, 8, 27, 65, 125]  # Hay algo al aqui...\n",
    "4 ** 3  # 4^3 es 64! no 65"
   ]
  },
  {
   "cell_type": "code",
   "execution_count": null,
   "metadata": {
    "id": "PC398D7hHM8f"
   },
   "outputs": [],
   "source": [
    "numeros_al_cubo[3] = 64  # Reemplazamos por el valor correcto, solo debemos ubicar la posición correcta.\n",
    "numeros_al_cubo"
   ]
  },
  {
   "cell_type": "markdown",
   "metadata": {
    "id": "Wg_85Iz0HM8h"
   },
   "source": [
    "Un método que usarán en el manejo de listas es `append()`, el cual permite agregar un nuevo ítem al final de la lista.\n"
   ]
  },
  {
   "cell_type": "code",
   "execution_count": null,
   "metadata": {
    "id": "FJs8JVdtHM8h"
   },
   "outputs": [],
   "source": [
    "numeros_al_cubo.append(216)  # Add the cube of 6 ...\n",
    "numeros_al_cubo.append(7 ** 3)  # and the cube of 7.\n",
    "a = 'cadena'\n"
   ]
  },
  {
   "cell_type": "markdown",
   "metadata": {
    "id": "BKy_qr3hHM8i"
   },
   "source": [
    "Mediante el uso del concepto de `slicing` puedes modificar valores dentro de la lista."
   ]
  },
  {
   "cell_type": "code",
   "execution_count": null,
   "metadata": {
    "id": "FcuUxwCbHM8j"
   },
   "outputs": [],
   "source": [
    "letras = ['a', 'b', 'c', 'd', 'e', 'f', 'g']\n",
    "letras.clear()\n"
   ]
  },
  {
   "cell_type": "code",
   "execution_count": null,
   "metadata": {
    "id": "YkE8fIzLHM8k"
   },
   "outputs": [],
   "source": [
    "# Reemplacemos valores.\n",
    "letras[2:5] = ['C', 'D', 'E']\n",
    "letras"
   ]
  },
  {
   "cell_type": "code",
   "execution_count": null,
   "metadata": {
    "id": "XBcH1nJ-HM8m"
   },
   "outputs": [],
   "source": [
    "# Ahora los removemos.\n",
    "letras[2:5] = []\n",
    "letras"
   ]
  },
  {
   "cell_type": "code",
   "execution_count": null,
   "metadata": {
    "id": "qWtgy91bHM8n"
   },
   "outputs": [],
   "source": [
    "# Limpiamos la lista reemplazando todos los valores de la lista\n",
    "letras[:] = []\n",
    "letras"
   ]
  },
  {
   "cell_type": "markdown",
   "metadata": {
    "id": "5pn0oC-tHM8o"
   },
   "source": [
    "El método [`len()`](https://docs.python.org/3.5/library/functions.html#len) también aplica a listas."
   ]
  },
  {
   "cell_type": "code",
   "execution_count": null,
   "metadata": {
    "id": "hrMuaoXhHM8p"
   },
   "outputs": [],
   "source": [
    "letras = ['a', 'b', 'c', 'd']\n",
    "len(letras)"
   ]
  },
  {
   "cell_type": "markdown",
   "metadata": {
    "id": "1C8z9RVVHM8q"
   },
   "source": [
    "También puedes anidar listas, lo que significa que puedes crear listas dentro de otras listas. Por ejemplo:"
   ]
  },
  {
   "cell_type": "code",
   "execution_count": null,
   "metadata": {
    "id": "YQSgfi7OHM8q"
   },
   "outputs": [],
   "source": [
    "a = ['a', 'b', 'c']\n",
    "n = [1, 2, 3]\n",
    "x = [a, n] # Combinamos listas dentro de una nueva lista. \n",
    "x"
   ]
  },
  {
   "cell_type": "code",
   "execution_count": null,
   "metadata": {
    "id": "sgxPbsWhHM8r"
   },
   "outputs": [],
   "source": [
    "x[0] # Primer item de la lista X, cuál es el resultado?"
   ]
  },
  {
   "cell_type": "code",
   "execution_count": null,
   "metadata": {
    "id": "n912HsmLHM8s"
   },
   "outputs": [],
   "source": [
    "x[1][1] # Segundo elemento (empezando de izquierda a derecha), del primer item de x"
   ]
  },
  {
   "cell_type": "markdown",
   "metadata": {
    "id": "gm60ZbW8HM8u"
   },
   "source": [
    "## Primeros pasos en programación"
   ]
  },
  {
   "cell_type": "markdown",
   "metadata": {
    "id": "5sdGOQPdHM8u"
   },
   "source": [
    "Un científico de datos, entre otros profesioanels, deben realizar tareas más complicadas que sumar o restar. Por ejemplo escribir series como la que sigue:\n"
   ]
  },
  {
   "cell_type": "code",
   "execution_count": null,
   "metadata": {
    "id": "EQt5Ofd9HM8u"
   },
   "outputs": [],
   "source": [
    "# Series\n",
    "# Identifique que hace la siguiente serie\n",
    "a = 0\n",
    "b = 1\n",
    "\n",
    "while b < 10:    \n",
    "    print(b)\n",
    "    a = b\n",
    "    b = a+b\n",
    "\n"
   ]
  },
  {
   "cell_type": "markdown",
   "metadata": {
    "id": "8WTuwlGNHM8y"
   },
   "source": [
    "En el siguiente ejemplo imprimimos una serie de valores, puedes identificar cual es la mayor diferencia respecto lo que has visto hasta ahora? "
   ]
  },
  {
   "cell_type": "code",
   "execution_count": null,
   "metadata": {
    "id": "Lq39ESbtHM8y"
   },
   "outputs": [],
   "source": [
    "a, b = 0, 1\n",
    "while b < 1000:\n",
    "    print(b, end=',')\n",
    "    a, b = b, a+b"
   ]
  },
  {
   "cell_type": "markdown",
   "metadata": {
    "id": "ofpJkvSHqiX6"
   },
   "source": [
    "# Flujo de control"
   ]
  },
  {
   "cell_type": "markdown",
   "metadata": {
    "id": "44Ujd5LZqnvi"
   },
   "source": [
    "Ademas del condicional `while` que hemos introducido, Python utiliza otros controls conocidos en otro lenguajes. \n"
   ]
  },
  {
   "cell_type": "markdown",
   "metadata": {
    "id": "m5iWjdMLrVsr"
   },
   "source": [
    "## Control IF\n",
    "Posiblemente uno de los más conocidos. Recordando Pseudo-Código\n",
    "\n",
    "\n",
    "\n",
    "```\n",
    "Si (SE CUMPLE CONDICION)\n",
    "  EJECUTA ESTE BLOQUE\n",
    "\n",
    "SINO\n",
    "  EJECUTA ESTE BLOQUE\n",
    "```\n",
    "\n"
   ]
  },
  {
   "cell_type": "code",
   "execution_count": null,
   "metadata": {
    "colab": {
     "base_uri": "https://localhost:8080/",
     "height": 129
    },
    "id": "gGdE4KTWrIPT",
    "outputId": "b6d25f0a-b761-4bd2-f4f4-b9c058a55cd2"
   },
   "outputs": [
    {
     "ename": "SyntaxError",
     "evalue": "ignored",
     "output_type": "error",
     "traceback": [
      "\u001b[0;36m  File \u001b[0;32m\"<ipython-input-212-27d79fcf84bb>\"\u001b[0;36m, line \u001b[0;32m5\u001b[0m\n\u001b[0;31m    elif x = 0:\u001b[0m\n\u001b[0m           ^\u001b[0m\n\u001b[0;31mSyntaxError\u001b[0m\u001b[0;31m:\u001b[0m invalid syntax\n"
     ]
    }
   ],
   "source": [
    "x = int(input(\"Please enter an integer: \"))\n",
    "if x < 0:\n",
    "  x = 0\n",
    "  print('Negative changed to zero')\n",
    "elif x == 0:\n",
    "  print('Zero')\n",
    "elif x == 1:\n",
    "  print('Single')\n",
    "else:\n",
    "  print('More')"
   ]
  },
  {
   "cell_type": "markdown",
   "metadata": {
    "id": "-PxUh1WPsC9O"
   },
   "source": [
    "## Ciclo FOR\n",
    "\n",
    "El ciclo `for` itera sobre una secuencia de items (lista o cadenas), en el orden que aparencen en la secuencia. Por ejemplo:\n",
    "\n"
   ]
  },
  {
   "cell_type": "code",
   "execution_count": null,
   "metadata": {
    "colab": {
     "base_uri": "https://localhost:8080/",
     "height": 67
    },
    "id": "VrOjbUhasWvr",
    "outputId": "ead2d53b-f979-40c8-b4f3-10b5db3b819e"
   },
   "outputs": [
    {
     "name": "stdout",
     "output_type": "stream",
     "text": [
      "gato 4\n",
      "perro 5\n",
      "<3 unicornio <3 15\n"
     ]
    }
   ],
   "source": [
    "words = ['gato', 'perro', '<3 unicornio <3']\n",
    "for w in words:\n",
    "  print(w, len(w))"
   ]
  },
  {
   "cell_type": "code",
   "execution_count": null,
   "metadata": {
    "colab": {
     "base_uri": "https://localhost:8080/",
     "height": 319
    },
    "id": "JBPD5Mjisvki",
    "outputId": "ec07ccdf-174a-4a12-85cf-93f18cbba5c4"
   },
   "outputs": [
    {
     "data": {
      "text/plain": [
       "['<3 unicornio <3',\n",
       " '<3 unicornio <3',\n",
       " '<3 unicornio <3',\n",
       " '<3 unicornio <3',\n",
       " '<3 unicornio <3',\n",
       " '<3 unicornio <3',\n",
       " '<3 unicornio <3',\n",
       " '<3 unicornio <3',\n",
       " '<3 unicornio <3',\n",
       " '<3 unicornio <3',\n",
       " '<3 unicornio <3',\n",
       " '<3 unicornio <3',\n",
       " '<3 unicornio <3',\n",
       " '<3 unicornio <3',\n",
       " '<3 unicornio <3',\n",
       " 'gato',\n",
       " 'perro',\n",
       " '<3 unicornio <3']"
      ]
     },
     "execution_count": 217,
     "metadata": {
      "tags": []
     },
     "output_type": "execute_result"
    }
   ],
   "source": [
    "for x in words[:]:  # Loopea sobre una copia slice de la lista original \n",
    "  if len(x) > 6:\n",
    "    words.insert(0, x)\n",
    "words\n"
   ]
  },
  {
   "cell_type": "code",
   "execution_count": null,
   "metadata": {
    "colab": {
     "base_uri": "https://localhost:8080/",
     "height": 101
    },
    "id": "UytP2svetRSQ",
    "outputId": "b4150d1b-bb80-4d37-aa5f-2af21660200e"
   },
   "outputs": [
    {
     "name": "stdout",
     "output_type": "stream",
     "text": [
      "0\n",
      "1\n",
      "2\n",
      "3\n",
      "4\n"
     ]
    }
   ],
   "source": [
    "i = 1\n",
    "for i in range(5): # Si deseas iterar sobre una secuencia de números, puedes utilizar la función range()\n",
    "  print(i)"
   ]
  },
  {
   "cell_type": "markdown",
   "metadata": {
    "id": "sxfJVljcHM8z"
   },
   "source": [
    "# Aprende más\n",
    "\n",
    "Cadenas:\n",
    "\n",
    "- [Text Sequence Type - str](https://docs.python.org/3.5/library/stdtypes.html#textseq): Strings are examples of *sequence types*, and support the common operations supported by such types.\n",
    "- [String Methods](https://docs.python.org/3.5/library/stdtypes.html#string-methods): Strings support a large number of methods for basic transformations and searching.\n",
    "- [Format String Syntax](https://docs.python.org/3.5/library/string.html#formatstrings): Information about string formatting with [`str.format()`](https://docs.python.org/3.5/library/string.html#formatstrings).\n",
    "- [`printf`-style String Formatting](https://docs.python.org/3.5/library/stdtypes.html#old-string-formatting): The old formatting operations invoked when strings and Unicode strings are the left operand of the `%` operator.\n",
    "\n",
    "Puedes continuar este tutorial en python.org (try pasting the code into a notebook!):\n",
    "\n",
    "- [More Control Flow Tools](https://docs.python.org/3.6/tutorial/controlflow.html)\n",
    "- [Data Structures](Data Structures)\n",
    "- [Modules](https://docs.python.org/3.6/tutorial/modules.html)\n",
    "- [Input and Output](https://docs.python.org/3.6/tutorial/inputoutput.html)"
   ]
  }
 ],
 "metadata": {
  "colab": {
   "collapsed_sections": [
    "-PxUh1WPsC9O"
   ],
   "include_colab_link": true,
   "name": "Introduction to Python.ipynb",
   "provenance": []
  },
  "kernelspec": {
   "display_name": "Python 3 (ipykernel)",
   "language": "python",
   "name": "python3"
  },
  "language_info": {
   "codemirror_mode": {
    "name": "ipython",
    "version": 3
   },
   "file_extension": ".py",
   "mimetype": "text/x-python",
   "name": "python",
   "nbconvert_exporter": "python",
   "pygments_lexer": "ipython3",
   "version": "3.8.15"
  }
 },
 "nbformat": 4,
 "nbformat_minor": 4
}
