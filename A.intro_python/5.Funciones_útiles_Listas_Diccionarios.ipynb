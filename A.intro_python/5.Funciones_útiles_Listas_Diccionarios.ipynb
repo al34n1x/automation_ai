{
  "cells": [
    {
      "cell_type": "markdown",
      "metadata": {
        "id": "view-in-github",
        "colab_type": "text"
      },
      "source": [
        "<a href=\"https://colab.research.google.com/github/al34n1x/2.ds_intro_python/blob/main/5.Funciones_%C3%BAtiles_Listas_Diccionarios.ipynb\" target=\"_parent\"><img src=\"https://colab.research.google.com/assets/colab-badge.svg\" alt=\"Open In Colab\"/></a>"
      ]
    },
    {
      "cell_type": "markdown",
      "metadata": {
        "colab_type": "toc",
        "id": "MbRQ6hA3Pjw7"
      },
      "source": [
        ">[Funciones útiles Listas](#updateTitle=true&folderId=1hYY6URNFLa2w5I3uQbpDlwOox_am-5cM&scrollTo=ceRb7c19KUtV)\n",
        "\n",
        ">[Funciones útiles Diccionarios](#updateTitle=true&folderId=1hYY6URNFLa2w5I3uQbpDlwOox_am-5cM&scrollTo=vz2KCZoOMk0p)\n",
        "\n"
      ]
    },
    {
      "cell_type": "markdown",
      "metadata": {
        "id": "ceRb7c19KUtV"
      },
      "source": [
        "# Funciones útiles Listas\n",
        "\n",
        "* sort (): ordena la lista en orden ascendente.\n",
        "\n",
        "* type (lista): Devuelve el tipo de clase de un objeto.\n",
        "\n",
        "* append (): agrega un solo elemento a una lista.\n",
        "\n",
        "* extend (): agrega varios elementos a una lista.\n",
        "\n",
        "* index (): Devuelve la primera aparición del valor especificado.\n",
        "\n",
        "* max (lista): Devuelve un elemento de la lista con el valor máximo.\n",
        "\n",
        "* min (lista): Devuelve un elemento de la lista con valor mínimo.\n",
        "\n",
        "* len (lista): Da la longitud total de la lista."
      ]
    },
    {
      "cell_type": "code",
      "execution_count": null,
      "metadata": {
        "id": "GwGRgHVNKT5z"
      },
      "outputs": [],
      "source": [
        "lista = [3,4,6,34,6,2,8]"
      ]
    },
    {
      "cell_type": "code",
      "execution_count": null,
      "metadata": {
        "id": "pg9o2kPdLG__"
      },
      "outputs": [],
      "source": [
        "lista"
      ]
    },
    {
      "cell_type": "code",
      "execution_count": null,
      "metadata": {
        "id": "InACnOKHK3P2"
      },
      "outputs": [],
      "source": [
        "lista.sort()\n",
        "lista"
      ]
    },
    {
      "cell_type": "code",
      "execution_count": null,
      "metadata": {
        "id": "rcfXju53K-Ef"
      },
      "outputs": [],
      "source": [
        "print(type(lista))"
      ]
    },
    {
      "cell_type": "code",
      "execution_count": null,
      "metadata": {
        "id": "ChwNyaR0LBqw"
      },
      "outputs": [],
      "source": [
        "lista.append(5)"
      ]
    },
    {
      "cell_type": "code",
      "execution_count": null,
      "metadata": {
        "id": "GHab16j5LJiX"
      },
      "outputs": [],
      "source": [
        "lista.extend([78,41])"
      ]
    },
    {
      "cell_type": "code",
      "execution_count": null,
      "metadata": {
        "id": "AWbCcmj2LXRe"
      },
      "outputs": [],
      "source": [
        "lista.index(6)"
      ]
    },
    {
      "cell_type": "code",
      "execution_count": null,
      "metadata": {
        "id": "JpSXJ5a6La3x"
      },
      "outputs": [],
      "source": [
        "max(lista)"
      ]
    },
    {
      "cell_type": "code",
      "execution_count": null,
      "metadata": {
        "id": "bUOYdUamLfwf"
      },
      "outputs": [],
      "source": [
        "min(lista)"
      ]
    },
    {
      "cell_type": "code",
      "execution_count": null,
      "metadata": {
        "id": "_BU0Q1qMLiej"
      },
      "outputs": [],
      "source": [
        "len(lista)"
      ]
    },
    {
      "cell_type": "markdown",
      "metadata": {
        "id": "vz2KCZoOMk0p"
      },
      "source": [
        "# Funciones útiles Diccionarios\n",
        "\n",
        "* clear(): Elimina todos los elementos del diccionario\n",
        "* copy(): Devuelve una copia del diccionario\n",
        "* fromkeys(): Devuelve un diccionario con las claves y el valor especificados\n",
        "* get(): Devuelve el valor de la clave especificada\n",
        "* items(): Devuelve una lista que contiene una tupla para cada par clave-valor\n",
        "* keys(): Devuelve una lista que contiene las claves del diccionario.\n",
        "* pop(): Elimina el elemento con la clave especificada\n",
        "* popitem(): Elimina el último par clave-valor insertado\n",
        "* setdefault(): Devuelve el valor de la clave especificada. Si la clave no existe inserta la clave, con el valor especificado\n",
        "* update(): Actualiza el diccionario con los pares clave-valor especificados\n",
        "* values(): Devuelve una lista de todos los valores del diccionario."
      ]
    },
    {
      "cell_type": "code",
      "execution_count": null,
      "metadata": {
        "id": "MSuaXS-nNeay"
      },
      "outputs": [],
      "source": [
        "dic = {\n",
        "    'Nombre':'Ryan',\n",
        "    'Apellido':'Reynolds'\n",
        "}\n",
        "\n",
        "dic"
      ]
    },
    {
      "cell_type": "code",
      "execution_count": null,
      "metadata": {
        "id": "4CdSmB79Npv3"
      },
      "outputs": [],
      "source": [
        "dic.clear()\n",
        "dic"
      ]
    },
    {
      "cell_type": "code",
      "execution_count": null,
      "metadata": {
        "id": "0bKU8fFuNw1Y"
      },
      "outputs": [],
      "source": [
        "keys = {'a', 'e', 'i', 'o', 'u' }\n",
        "value = 'Vocales'\n",
        "\n",
        "vowels = dict.fromkeys(keys, value)\n",
        "print(vowels)"
      ]
    },
    {
      "cell_type": "code",
      "execution_count": null,
      "metadata": {
        "id": "zCq1tRwlOjYC"
      },
      "outputs": [],
      "source": [
        "dic.get('Nombre')"
      ]
    },
    {
      "cell_type": "code",
      "execution_count": null,
      "metadata": {
        "id": "nW1utX1JOpUz"
      },
      "outputs": [],
      "source": [
        "dic.items()"
      ]
    },
    {
      "cell_type": "code",
      "execution_count": null,
      "metadata": {
        "id": "IOLQQfPxOtgs"
      },
      "outputs": [],
      "source": [
        "dic.keys()"
      ]
    },
    {
      "cell_type": "code",
      "execution_count": null,
      "metadata": {
        "id": "9wZ_zuevOwQT"
      },
      "outputs": [],
      "source": [
        "dic.pop('Apellido')\n",
        "dic"
      ]
    },
    {
      "cell_type": "code",
      "execution_count": null,
      "metadata": {
        "id": "UfvCxhT6O-CC"
      },
      "outputs": [],
      "source": [
        "dic = {\n",
        "    'Nombre':'Ryan',\n",
        "    'Apellido':'Reynolds'\n",
        "}\n",
        "\n",
        "dic"
      ]
    },
    {
      "cell_type": "code",
      "execution_count": null,
      "metadata": {
        "id": "PbvFH6i8O4Xk"
      },
      "outputs": [],
      "source": [
        "dic.popitem()\n",
        "dic"
      ]
    },
    {
      "cell_type": "code",
      "execution_count": null,
      "metadata": {
        "id": "PuDfgl99PEQ6"
      },
      "outputs": [],
      "source": [
        "dic.setdefault('Apellido','Reynolds')\n",
        "dic"
      ]
    },
    {
      "cell_type": "code",
      "execution_count": null,
      "metadata": {
        "id": "pDpWOYTfPMej"
      },
      "outputs": [],
      "source": [
        "dic.update({'Personaje':'Deadpool'})\n",
        "dic"
      ]
    },
    {
      "cell_type": "code",
      "execution_count": null,
      "metadata": {
        "id": "vFkLwzEfPdFf"
      },
      "outputs": [],
      "source": [
        "dic.values()"
      ]
    }
  ],
  "metadata": {
    "colab": {
      "name": "Funciones útiles Listas_Diccionarios.ipynb",
      "provenance": [],
      "authorship_tag": "ABX9TyNhxhDh37M8N8TJFt+LUKl+",
      "include_colab_link": true
    },
    "kernelspec": {
      "display_name": "Python 3 (ipykernel)",
      "language": "python",
      "name": "python3"
    },
    "language_info": {
      "codemirror_mode": {
        "name": "ipython",
        "version": 3
      },
      "file_extension": ".py",
      "mimetype": "text/x-python",
      "name": "python",
      "nbconvert_exporter": "python",
      "pygments_lexer": "ipython3",
      "version": "3.8.15"
    }
  },
  "nbformat": 4,
  "nbformat_minor": 0
}