{
  "nbformat": 4,
  "nbformat_minor": 0,
  "metadata": {
    "colab": {
      "name": "Data Cleaning and Preparation.ipynb",
      "provenance": [],
      "collapsed_sections": [],
      "authorship_tag": "ABX9TyNGZXm4lMKY2UuxhEL9hsWn",
      "include_colab_link": true
    },
    "kernelspec": {
      "name": "python3",
      "display_name": "Python 3"
    }
  },
  "cells": [
    {
      "cell_type": "markdown",
      "metadata": {
        "id": "view-in-github",
        "colab_type": "text"
      },
      "source": [
        "<a href=\"https://colab.research.google.com/github/al34n1x/DataScience/blob/master/5.Data_Cleaning/Data_Cleaning_and_Preparation.ipynb\" target=\"_parent\"><img src=\"https://colab.research.google.com/assets/colab-badge.svg\" alt=\"Open In Colab\"/></a>"
      ]
    },
    {
      "cell_type": "markdown",
      "metadata": {
        "id": "PpTbxwgXa2zJ",
        "colab_type": "toc"
      },
      "source": [
        ">[Preparación de datos](#updateTitle=true&folderId=1hYY6URNFLa2w5I3uQbpDlwOox_am-5cM&scrollTo=DO_6nBOY5ZcN)\n",
        "\n",
        ">>[Filtrando datos faltantes/NA](#updateTitle=true&folderId=1hYY6URNFLa2w5I3uQbpDlwOox_am-5cM&scrollTo=eTw8759X9lwK)\n",
        "\n",
        ">>[Completando datos faltantes](#updateTitle=true&folderId=1hYY6URNFLa2w5I3uQbpDlwOox_am-5cM&scrollTo=n6ilPNx0_zFp)\n",
        "\n",
        ">[Transformación de datos](#updateTitle=true&folderId=1hYY6URNFLa2w5I3uQbpDlwOox_am-5cM&scrollTo=pMzyv6zODVNP)\n",
        "\n",
        ">>[Remover duplicados](#updateTitle=true&folderId=1hYY6URNFLa2w5I3uQbpDlwOox_am-5cM&scrollTo=hVrJUcXqDs0Q)\n",
        "\n",
        ">>[Transformar datos usando funciones o mapeos](#updateTitle=true&folderId=1hYY6URNFLa2w5I3uQbpDlwOox_am-5cM&scrollTo=pnfXMh75WtYP)\n",
        "\n",
        ">>[Discretización y Binning](#updateTitle=true&folderId=1hYY6URNFLa2w5I3uQbpDlwOox_am-5cM&scrollTo=yw6PTz2gYWd8)\n",
        "\n",
        ">>[Detectando y filtrando outliers](#updateTitle=true&folderId=1hYY6URNFLa2w5I3uQbpDlwOox_am-5cM&scrollTo=M2JbTtlZqqmo)\n",
        "\n",
        ">[Manipulación de cadenas](#updateTitle=true&folderId=1hYY6URNFLa2w5I3uQbpDlwOox_am-5cM&scrollTo=RD8se-KqsERd)\n",
        "\n",
        ">>[Métodos Python Built-in](#updateTitle=true&folderId=1hYY6URNFLa2w5I3uQbpDlwOox_am-5cM&scrollTo=tszbFhZbuRTO)\n",
        "\n"
      ]
    },
    {
      "cell_type": "markdown",
      "metadata": {
        "id": "DO_6nBOY5ZcN"
      },
      "source": [
        "# Preparación de datos\n",
        "Se dedica una cantidad significativa de tiempo a la preparación de datos: carga, limpieza, transformación y reorganización. \n",
        "Con frecuencia tales tareas ocupan el 80% o más del tiempo de un analista. A veces, la forma en que los datos se almacenan en archivos o bases de datos no está en el formato correcto para una tarea en particular. \n",
        "Muchos investigadores eligen hacer un procesamiento ad hoc de datos de una forma a otra utilizando un lenguaje de programación de propósito general, como Python, Perl, R o Java, o herramientas de procesamiento de texto Unix como sed o awk. \n",
        "\n",
        "<img src = \"https://i.pinimg.com/564x/6b/ab/6c/6bab6c9bfb8b1efd560b51400ac946ec.jpg\">\n",
        "\n",
        "\n",
        "Afortunadamente, Pandas, junto con las características incorporadas del lenguaje Python, le brindan un conjunto de herramientas de alto nivel, flexible y rápido para permitirle manipular los datos en la forma correcta."
      ]
    },
    {
      "cell_type": "code",
      "metadata": {
        "id": "2FiCz2eh5C1u"
      },
      "source": [
        "import pandas as pd\n",
        "import numpy as np\n",
        "string_data = pd.Series(['aardvark', 'artichoke', np.nan, 'avocado'])\n",
        "string_data"
      ],
      "execution_count": null,
      "outputs": []
    },
    {
      "cell_type": "code",
      "metadata": {
        "id": "KPPISJyZ51Wn"
      },
      "source": [
        "string_data.isnull() # Método para saber si en el arreglo existe un nulo"
      ],
      "execution_count": null,
      "outputs": []
    },
    {
      "cell_type": "markdown",
      "metadata": {
        "id": "fb2AFeQA6Hsj"
      },
      "source": [
        "Estos son algunos de los métodos para manejar Nulos\n",
        "\n",
        "\n",
        "Argumento | Descripción\n",
        "--- | ---\n",
        "dropna | Filtra labels de los ejes basado en si esos valores para cada label se encuentra perdido, con diferentes thresholds para trabajar con dichos valores perdidos\n",
        "fillna | Rellena valores perdidos con algún valor o usando una interpolación de métodos como **ffill** o **bfill**\n",
        "isnull | Devuelve valores booleanos indicando donde existe un valor perdido/NA\n",
        "notnull| A contra partida del método **isnull**, nos devuelve aquellos que no son nulos\n",
        "\n",
        "\n"
      ]
    },
    {
      "cell_type": "markdown",
      "metadata": {
        "id": "eTw8759X9lwK"
      },
      "source": [
        "## Filtrando datos faltantes/NA\n",
        "\n",
        "Hay algunas formas de filtrar los datos faltantes. Si bien siempre tiene la opción de hacerlo a mano con **pandas.isnull** e indexación booleana, **dropna** puede ser útil. En una serie, devuelve la serie solo con los datos no nulos y los valores de índice:\n",
        "\n"
      ]
    },
    {
      "cell_type": "code",
      "metadata": {
        "id": "MWmplY7k91R5"
      },
      "source": [
        "from numpy import nan as NA\n",
        "datos = pd.Series([1, NA, 3.5, NA, 7])\n",
        "datos"
      ],
      "execution_count": null,
      "outputs": []
    },
    {
      "cell_type": "code",
      "metadata": {
        "id": "Gj2o_kjR95lK"
      },
      "source": [
        "datos.dropna()"
      ],
      "execution_count": null,
      "outputs": []
    },
    {
      "cell_type": "code",
      "metadata": {
        "id": "mtVPxloW9_Aj"
      },
      "source": [
        "datos[datos.notnull()] #Equivalente"
      ],
      "execution_count": null,
      "outputs": []
    },
    {
      "cell_type": "code",
      "metadata": {
        "id": "DSxrujOrQawx"
      },
      "source": [
        "datos"
      ],
      "execution_count": null,
      "outputs": []
    },
    {
      "cell_type": "markdown",
      "metadata": {
        "id": "qb_Iibao-Fec"
      },
      "source": [
        "Con los objetos DataFrame, las cosas son un poco más complejas. Es posible que desees eliminar filas o columnas que sean todas NA o solo aquellas que contengan NA. **dropna** por defecto descarta cualquier fila que contenga un valor faltante:"
      ]
    },
    {
      "cell_type": "code",
      "metadata": {
        "id": "HtSYT3Bb-NbM"
      },
      "source": [
        "datos = pd.DataFrame([[1., 6.5, 3.], [1., NA, NA],\n",
        "        [NA, NA, NA], [NA, 6.5, 3.]])\n",
        "datos"
      ],
      "execution_count": null,
      "outputs": []
    },
    {
      "cell_type": "code",
      "metadata": {
        "id": "2h8RXQpP-SOr"
      },
      "source": [
        "datos_limpios = datos.dropna()\n",
        "datos_limpios"
      ],
      "execution_count": null,
      "outputs": []
    },
    {
      "cell_type": "markdown",
      "metadata": {
        "id": "WJba7XqT-M5e"
      },
      "source": [
        "Podemos querer solo eliminar filas en las cuales son todos los valores NA, para ello pasamos el parámetro **how=all**\n"
      ]
    },
    {
      "cell_type": "code",
      "metadata": {
        "id": "o2oSVkcZ-2WW"
      },
      "source": [
        "datos.dropna(how=\"all\")"
      ],
      "execution_count": null,
      "outputs": []
    },
    {
      "cell_type": "markdown",
      "metadata": {
        "id": "6-h9mB6D-18u"
      },
      "source": [
        "Podemos hacer lo mismo con columnas pasando el parámetro **axis=1**. Agreguemos una columna con Valores Nulos"
      ]
    },
    {
      "cell_type": "code",
      "metadata": {
        "id": "46vUiElC_Da8"
      },
      "source": [
        "datos[4]=NA\n",
        "datos"
      ],
      "execution_count": null,
      "outputs": []
    },
    {
      "cell_type": "code",
      "metadata": {
        "id": "uiA8kH-O_JZl"
      },
      "source": [
        "datos.dropna(axis=1, how='all') #Pasamos el parámetro axis=1 con how=all"
      ],
      "execution_count": null,
      "outputs": []
    },
    {
      "cell_type": "markdown",
      "metadata": {
        "id": "n6ilPNx0_zFp"
      },
      "source": [
        "## Completando datos faltantes\n",
        "\n",
        "En lugar de filtrar los datos faltantes (y potencialmente descartar otros datos junto con ellos), es posible que desee completar los \"agujeros\" de muchas maneras. Para la mayoría de los propósitos, el método **fillna** es la función de caballo de batalla a utilizar. \n",
        "\n",
        "<img src = \"https://www.gmcrafts.co.uk/wp-content/uploads/2018/11/Unicorn-And-Rainbow-Main-Product-Image.jpg\" width = \"300\" height = \"300\">\n",
        "\n",
        "\n",
        "Llamar a **fillna** con una constante reemplaza los valores faltantes con ese valor:\n"
      ]
    },
    {
      "cell_type": "code",
      "metadata": {
        "id": "iuGgZEGvBVC3"
      },
      "source": [
        "df = pd.DataFrame(np.random.randn(7, 3))\n",
        "df.iloc[:4, 1] = NA\n",
        "df.iloc[:2, 2] = NA\n",
        "df"
      ],
      "execution_count": null,
      "outputs": []
    },
    {
      "cell_type": "code",
      "metadata": {
        "id": "KOpQQcpkBlXh"
      },
      "source": [
        "df.fillna(0)"
      ],
      "execution_count": null,
      "outputs": []
    },
    {
      "cell_type": "markdown",
      "metadata": {
        "id": "R0rH491BBuxy"
      },
      "source": [
        "Con **fillna** en conjunto con un dict podemos darle diferente valores a cada columna\n"
      ]
    },
    {
      "cell_type": "code",
      "metadata": {
        "id": "j_mWft3oB2kv"
      },
      "source": [
        "df.fillna({1: 0.5, 2: 0}) # IMPORTANTE! Lo usarán bastante durante la ejercitación"
      ],
      "execution_count": null,
      "outputs": []
    },
    {
      "cell_type": "markdown",
      "metadata": {
        "id": "pfGuhKQGB-2_"
      },
      "source": [
        "**fillna** devuelve un nuevo objeto, pero puedes modificar el objeto existente.\n"
      ]
    },
    {
      "cell_type": "code",
      "metadata": {
        "id": "7TYU-DlqCIYj"
      },
      "source": [
        "_ = df.fillna(0, inplace=True) #Recuerdan esto de la primera clase?\n",
        "df"
      ],
      "execution_count": null,
      "outputs": []
    },
    {
      "cell_type": "markdown",
      "metadata": {
        "id": "sA0qBn30CSUZ"
      },
      "source": [
        "Los mismos métodos disponibles para reindexing se pueden usar con **fillna**"
      ]
    },
    {
      "cell_type": "code",
      "metadata": {
        "id": "BcUPriQACR0Z"
      },
      "source": [
        "df = pd.DataFrame(np.random.randn(6, 3))\n",
        "df.iloc[2:, 1] = NA\n",
        "df.iloc[4:, 2] = NA\n",
        "df"
      ],
      "execution_count": null,
      "outputs": []
    },
    {
      "cell_type": "code",
      "metadata": {
        "id": "L4IWBqIvCgdR"
      },
      "source": [
        "df.fillna(method='ffill', limit=2)"
      ],
      "execution_count": null,
      "outputs": []
    },
    {
      "cell_type": "code",
      "metadata": {
        "id": "aj_UyzGqC9Gn"
      },
      "source": [
        "serie = pd.Series([1., NA, 3.5, NA, 7])\n",
        "serie"
      ],
      "execution_count": null,
      "outputs": []
    },
    {
      "cell_type": "code",
      "metadata": {
        "id": "ir0C6ed8DHZ8"
      },
      "source": [
        "serie.fillna(serie.mean()) # Qué estamos haciendo aquí?"
      ],
      "execution_count": null,
      "outputs": []
    },
    {
      "cell_type": "markdown",
      "metadata": {
        "id": "pMzyv6zODVNP"
      },
      "source": [
        "# Transformación de datos \n",
        "\n",
        "Hasta aquí hemos trabajando con el ordenamiento de datos, filtrado, limpieza. Ahora veremos algunas transformaciones importantes que serán de utilidad durante el análisis de datos"
      ]
    },
    {
      "cell_type": "markdown",
      "metadata": {
        "id": "hVrJUcXqDs0Q"
      },
      "source": [
        "## Remover duplicados\n",
        "\n",
        "Filas duplicadas pueden ser encontradas en un DataFrame for diferentes razones. Como parte del proceso de preparación de datos, debes eliminar dichas duplicaciones que afectan al análisis final.\n"
      ]
    },
    {
      "cell_type": "code",
      "metadata": {
        "id": "J3YsnHxyDsR1",
        "colab": {
          "base_uri": "https://localhost:8080/",
          "height": 269
        },
        "outputId": "4d7b9ce3-99ad-4c65-d519-6c1d30ff79aa"
      },
      "source": [
        "df = pd.DataFrame({'k1': ['Deadpool', 'Wolverine'] * 3 + ['Wolverine'],\n",
        "            'k2': [1, 1, 2, 3, 3, 4, 4]})\n",
        "df"
      ],
      "execution_count": 23,
      "outputs": [
        {
          "output_type": "execute_result",
          "data": {
            "text/html": [
              "<div>\n",
              "<style scoped>\n",
              "    .dataframe tbody tr th:only-of-type {\n",
              "        vertical-align: middle;\n",
              "    }\n",
              "\n",
              "    .dataframe tbody tr th {\n",
              "        vertical-align: top;\n",
              "    }\n",
              "\n",
              "    .dataframe thead th {\n",
              "        text-align: right;\n",
              "    }\n",
              "</style>\n",
              "<table border=\"1\" class=\"dataframe\">\n",
              "  <thead>\n",
              "    <tr style=\"text-align: right;\">\n",
              "      <th></th>\n",
              "      <th>k1</th>\n",
              "      <th>k2</th>\n",
              "    </tr>\n",
              "  </thead>\n",
              "  <tbody>\n",
              "    <tr>\n",
              "      <th>0</th>\n",
              "      <td>Deadpool</td>\n",
              "      <td>1</td>\n",
              "    </tr>\n",
              "    <tr>\n",
              "      <th>1</th>\n",
              "      <td>Wolverine</td>\n",
              "      <td>1</td>\n",
              "    </tr>\n",
              "    <tr>\n",
              "      <th>2</th>\n",
              "      <td>Deadpool</td>\n",
              "      <td>2</td>\n",
              "    </tr>\n",
              "    <tr>\n",
              "      <th>3</th>\n",
              "      <td>Wolverine</td>\n",
              "      <td>3</td>\n",
              "    </tr>\n",
              "    <tr>\n",
              "      <th>4</th>\n",
              "      <td>Deadpool</td>\n",
              "      <td>3</td>\n",
              "    </tr>\n",
              "    <tr>\n",
              "      <th>5</th>\n",
              "      <td>Wolverine</td>\n",
              "      <td>4</td>\n",
              "    </tr>\n",
              "    <tr>\n",
              "      <th>6</th>\n",
              "      <td>Wolverine</td>\n",
              "      <td>4</td>\n",
              "    </tr>\n",
              "  </tbody>\n",
              "</table>\n",
              "</div>"
            ],
            "text/plain": [
              "          k1  k2\n",
              "0   Deadpool   1\n",
              "1  Wolverine   1\n",
              "2   Deadpool   2\n",
              "3  Wolverine   3\n",
              "4   Deadpool   3\n",
              "5  Wolverine   4\n",
              "6  Wolverine   4"
            ]
          },
          "metadata": {
            "tags": []
          },
          "execution_count": 23
        }
      ]
    },
    {
      "cell_type": "markdown",
      "metadata": {
        "id": "06xDmg6cENlH"
      },
      "source": [
        "El metodo DataFrame **duplicated** devuelve serie booleana indicando aquellas filas que poseen valores duplicados, identificados con filas previamente leidas.\n"
      ]
    },
    {
      "cell_type": "code",
      "metadata": {
        "id": "2E4rcV0-Efzl"
      },
      "source": [
        "df.duplicated()"
      ],
      "execution_count": null,
      "outputs": []
    },
    {
      "cell_type": "markdown",
      "metadata": {
        "id": "1g00lNsWEyMP"
      },
      "source": [
        "Puedes eliminar los duplicados utilizando el método **drop_duplicates**"
      ]
    },
    {
      "cell_type": "code",
      "metadata": {
        "id": "cBT7GLd_Exsq"
      },
      "source": [
        "df.drop_duplicates()"
      ],
      "execution_count": null,
      "outputs": []
    },
    {
      "cell_type": "markdown",
      "metadata": {
        "id": "pnfXMh75WtYP"
      },
      "source": [
        "## Transformar datos usando funciones o mapeos\n",
        "\n",
        "Para muchos conjuntos de datos, es posible que desees realizar alguna transformación en función de los valores de una matriz, serie o columna en un DataFrame. Considere los siguientes datos hipotéticos recopilados sobre varios tipos de carne:"
      ]
    },
    {
      "cell_type": "code",
      "metadata": {
        "id": "X_VOJLUFXAlR"
      },
      "source": [
        "datos = pd.DataFrame({'food': ['bacon', 'pulled pork', 'bacon',\n",
        "                              'Pastrami', 'corned beef', 'Bacon',\n",
        "                              'pastrami', 'honey ham', 'nova lox'],\n",
        "                     'ounces': [4, 3, 12, 6, 7.5, 8, 3, 5, 6]})\n",
        "datos"
      ],
      "execution_count": null,
      "outputs": []
    },
    {
      "cell_type": "code",
      "metadata": {
        "id": "LnlvFpPZXDQq"
      },
      "source": [
        "'''\n",
        "Supongamos que deseamos agregar una columna indicando el tipo\n",
        "de animal de donde proviene el alimento\n",
        "'''\n",
        "carne_a_animal = {\n",
        "  'bacon': 'pig',\n",
        "  'pulled pork': 'pig',\n",
        "  'pastrami': 'cow',\n",
        "  'corned beef': 'cow',\n",
        "  'honey ham': 'pig',\n",
        "  'nova lox': 'salmon'\n",
        "}"
      ],
      "execution_count": 27,
      "outputs": []
    },
    {
      "cell_type": "code",
      "metadata": {
        "id": "TM6vXr8xXci8"
      },
      "source": [
        "lowercased = datos['food'].str.lower()\n",
        "lowercased\n"
      ],
      "execution_count": null,
      "outputs": []
    },
    {
      "cell_type": "code",
      "metadata": {
        "id": "D3puDOcBXm0N"
      },
      "source": [
        "datos['animal'] = lowercased.map(carne_a_animal) #Realizamos el mapping. Por qué realizamos el Lowercase?\n",
        "datos"
      ],
      "execution_count": null,
      "outputs": []
    },
    {
      "cell_type": "code",
      "metadata": {
        "id": "Uy0iYCZRX52-"
      },
      "source": [
        "'''\n",
        "También podemos usar una función que haga todo lo anterior\n",
        "'''\n",
        "datos['food'].map(lambda x: carne_a_animal[x.lower()])\n"
      ],
      "execution_count": null,
      "outputs": []
    },
    {
      "cell_type": "markdown",
      "metadata": {
        "id": "yw6PTz2gYWd8"
      },
      "source": [
        "## Discretización y Binning\n",
        "\n",
        "Los datos continuos a menudo se discretizan o se separan en \"contenedores\" para su análisis. Supongamos que tiene datos sobre un grupo de individuos en un estudio y desea agruparlos en grupos de edad discretos:"
      ]
    },
    {
      "cell_type": "code",
      "metadata": {
        "id": "higppSU2YTfk"
      },
      "source": [
        "edad = [20, 22, 25, 27, 21, 23, 37, 31, 61, 45, 41, 32]\n",
        "edad"
      ],
      "execution_count": null,
      "outputs": []
    },
    {
      "cell_type": "markdown",
      "metadata": {
        "id": "RzEOmE-lY09L"
      },
      "source": [
        "Dividamos estos valores en diferentes bins de 18 a 25, 26 a 35, 36 a 60, y 61 y mayor.\n",
        "Para ello usamos la función **cut** en Pandas\n"
      ]
    },
    {
      "cell_type": "code",
      "metadata": {
        "id": "QXzlgbd-YfGE"
      },
      "source": [
        "bins = [18, 25, 35, 60, 100]\n",
        "gatos = pd.cut(edad, bins)\n",
        "gatos"
      ],
      "execution_count": null,
      "outputs": []
    },
    {
      "cell_type": "code",
      "metadata": {
        "id": "7thH5FiRYi4s"
      },
      "source": [
        "gatos.codes"
      ],
      "execution_count": null,
      "outputs": []
    },
    {
      "cell_type": "code",
      "metadata": {
        "id": "etcLDy5rTBXF"
      },
      "source": [
        "gatos.categories"
      ],
      "execution_count": null,
      "outputs": []
    },
    {
      "cell_type": "code",
      "metadata": {
        "id": "5DfzWeBiZqUr"
      },
      "source": [
        "pd.value_counts(gatos)"
      ],
      "execution_count": null,
      "outputs": []
    },
    {
      "cell_type": "code",
      "metadata": {
        "id": "ZCWJ8RT7Ykyp"
      },
      "source": [
        "pd.cut(edad, [18, 26, 36, 61, 100], right=False)"
      ],
      "execution_count": null,
      "outputs": []
    },
    {
      "cell_type": "code",
      "metadata": {
        "id": "MUmZcyoMYoAJ"
      },
      "source": [
        "group_names = ['Youth', 'YoungAdult', 'MiddleAged', 'Senior'] #You can also pass your own bin names by passing a list or array to the labels option:\n",
        "pd.cut(edad, bins, labels=group_names)"
      ],
      "execution_count": null,
      "outputs": []
    },
    {
      "cell_type": "markdown",
      "metadata": {
        "id": "2AOu4UikaVaG"
      },
      "source": [
        "Si pasa un número entero de bins para cortar en lugar de bordes explícitos, calculará bins de igual longitud en función de los valores mínimos y máximos en los datos. Considere el caso de algunos datos distribuidos uniformemente cortados en cuartos:"
      ]
    },
    {
      "cell_type": "code",
      "metadata": {
        "id": "F5TXTryQYqDo"
      },
      "source": [
        "datos = np.random.rand(20)\n",
        "pd.cut(datos, 4, precision=2) # The precision=2 option limits the decimal precision to two digits."
      ],
      "execution_count": null,
      "outputs": []
    },
    {
      "cell_type": "markdown",
      "metadata": {
        "id": "6MGJTqnjafov"
      },
      "source": [
        "Una función estrechamente relacionada, **qcut**, agrupa los datos en base a cuantiles de muestra. Dependiendo de la distribución de los datos, el uso de cortar generalmente no dará como resultado que cada contenedor tenga el mismo número de puntos de datos. Dado que **qcut** usa cuantiles de muestra en su lugar, por definición obtendrá contenedores de aproximadamente el mismo tamaño:"
      ]
    },
    {
      "cell_type": "code",
      "metadata": {
        "id": "2_IqRN4xYqGt",
        "colab": {
          "base_uri": "https://localhost:8080/",
          "height": 226
        },
        "outputId": "a60b80b3-d9ff-445c-e362-12544cdcb34a"
      },
      "source": [
        "datos = np.random.randn(1000)  # Normally distributed\n",
        "gatos = pd.qcut(datos, 4)  # Cut into quartiles\n",
        "\n"
      ],
      "execution_count": 45,
      "outputs": [
        {
          "output_type": "error",
          "ename": "AttributeError",
          "evalue": "ignored",
          "traceback": [
            "\u001b[0;31m---------------------------------------------------------------------------\u001b[0m",
            "\u001b[0;31mAttributeError\u001b[0m                            Traceback (most recent call last)",
            "\u001b[0;32m<ipython-input-45-7e362c3b2069>\u001b[0m in \u001b[0;36m<module>\u001b[0;34m()\u001b[0m\n\u001b[1;32m      1\u001b[0m \u001b[0mdatos\u001b[0m \u001b[0;34m=\u001b[0m \u001b[0mnp\u001b[0m\u001b[0;34m.\u001b[0m\u001b[0mrandom\u001b[0m\u001b[0;34m.\u001b[0m\u001b[0mrandn\u001b[0m\u001b[0;34m(\u001b[0m\u001b[0;36m1000\u001b[0m\u001b[0;34m)\u001b[0m  \u001b[0;31m# Normally distributed\u001b[0m\u001b[0;34m\u001b[0m\u001b[0;34m\u001b[0m\u001b[0m\n\u001b[1;32m      2\u001b[0m \u001b[0mgatos\u001b[0m \u001b[0;34m=\u001b[0m \u001b[0mpd\u001b[0m\u001b[0;34m.\u001b[0m\u001b[0mqcut\u001b[0m\u001b[0;34m(\u001b[0m\u001b[0mdatos\u001b[0m\u001b[0;34m,\u001b[0m \u001b[0;36m4\u001b[0m\u001b[0;34m)\u001b[0m  \u001b[0;31m# Cut into quartiles\u001b[0m\u001b[0;34m\u001b[0m\u001b[0;34m\u001b[0m\u001b[0m\n\u001b[0;32m----> 3\u001b[0;31m \u001b[0mdatos\u001b[0m\u001b[0;34m.\u001b[0m\u001b[0mdescribe\u001b[0m\u001b[0;34m(\u001b[0m\u001b[0;34m)\u001b[0m\u001b[0;34m\u001b[0m\u001b[0;34m\u001b[0m\u001b[0m\n\u001b[0m\u001b[1;32m      4\u001b[0m \u001b[0;34m\u001b[0m\u001b[0m\n",
            "\u001b[0;31mAttributeError\u001b[0m: 'numpy.ndarray' object has no attribute 'describe'"
          ]
        }
      ]
    },
    {
      "cell_type": "code",
      "metadata": {
        "id": "IMWHM0Y_Yxp2",
        "colab": {
          "base_uri": "https://localhost:8080/"
        },
        "outputId": "31827b27-cb92-4914-9359-471638f243c4"
      },
      "source": [
        "pd.qcut(datos, [0, 0.1, 0.5, 0.9, 1.]) # Similar to cut you can pass your own quantiles"
      ],
      "execution_count": 43,
      "outputs": [
        {
          "output_type": "execute_result",
          "data": {
            "text/plain": [
              "[(0.0813, 1.403], (0.0813, 1.403], (-3.004, -1.243], (0.0813, 1.403], (1.403, 3.128], ..., (1.403, 3.128], (0.0813, 1.403], (-1.243, 0.0813], (-3.004, -1.243], (-1.243, 0.0813]]\n",
              "Length: 1000\n",
              "Categories (4, interval[float64]): [(-3.004, -1.243] < (-1.243, 0.0813] < (0.0813, 1.403] <\n",
              "                                    (1.403, 3.128]]"
            ]
          },
          "metadata": {
            "tags": []
          },
          "execution_count": 43
        }
      ]
    },
    {
      "cell_type": "markdown",
      "metadata": {
        "id": "RiBO2VHFULpN"
      },
      "source": [
        "## Pregunta de examen\n",
        "\n",
        "Donde usarías cut vs qcut?\n",
        "\n"
      ]
    },
    {
      "cell_type": "markdown",
      "metadata": {
        "id": "M2JbTtlZqqmo"
      },
      "source": [
        "## Detectando y filtrando outliers\n",
        "\n",
        "Filtrar o transformar valores atípicos es en gran medida una cuestión de aplicar operaciones de matriz. Considere un DataFrame con algunos datos distribuidos normalmente:"
      ]
    },
    {
      "cell_type": "code",
      "metadata": {
        "id": "5WhZ79BlqzIH"
      },
      "source": [
        "df = pd.DataFrame(np.random.randn(1000, 4))\n",
        "df.describe() # Función importante"
      ],
      "execution_count": null,
      "outputs": []
    },
    {
      "cell_type": "markdown",
      "metadata": {
        "id": "HEqfsLAKq9JW"
      },
      "source": [
        "Supongamos que deseas encontrar valores en una columna que exceda en 3 valor absoluto"
      ]
    },
    {
      "cell_type": "code",
      "metadata": {
        "id": "nwML85Mrq8nq"
      },
      "source": [
        "col = df[2]\n",
        "col[np.abs(col) > 3]"
      ],
      "execution_count": null,
      "outputs": []
    },
    {
      "cell_type": "markdown",
      "metadata": {
        "id": "XTO8OCChrQcd"
      },
      "source": [
        "Para ubicar todas las filas que exceden en 3 o -3, puedes usar el método **any** en un DataFrame Booleano\n"
      ]
    },
    {
      "cell_type": "code",
      "metadata": {
        "id": "ugYo0tHbrbqU",
        "colab": {
          "base_uri": "https://localhost:8080/",
          "height": 425
        },
        "outputId": "36490633-499f-465d-f0e7-086bc10dcab3"
      },
      "source": [
        "df[(np.abs(df) > 3).any(1)]"
      ],
      "execution_count": 49,
      "outputs": [
        {
          "output_type": "execute_result",
          "data": {
            "text/html": [
              "<div>\n",
              "<style scoped>\n",
              "    .dataframe tbody tr th:only-of-type {\n",
              "        vertical-align: middle;\n",
              "    }\n",
              "\n",
              "    .dataframe tbody tr th {\n",
              "        vertical-align: top;\n",
              "    }\n",
              "\n",
              "    .dataframe thead th {\n",
              "        text-align: right;\n",
              "    }\n",
              "</style>\n",
              "<table border=\"1\" class=\"dataframe\">\n",
              "  <thead>\n",
              "    <tr style=\"text-align: right;\">\n",
              "      <th></th>\n",
              "      <th>0</th>\n",
              "      <th>1</th>\n",
              "      <th>2</th>\n",
              "      <th>3</th>\n",
              "    </tr>\n",
              "  </thead>\n",
              "  <tbody>\n",
              "    <tr>\n",
              "      <th>28</th>\n",
              "      <td>3.072518</td>\n",
              "      <td>-0.360508</td>\n",
              "      <td>1.294475</td>\n",
              "      <td>-0.339702</td>\n",
              "    </tr>\n",
              "    <tr>\n",
              "      <th>100</th>\n",
              "      <td>-0.270435</td>\n",
              "      <td>-0.780706</td>\n",
              "      <td>-3.081795</td>\n",
              "      <td>-0.906949</td>\n",
              "    </tr>\n",
              "    <tr>\n",
              "      <th>107</th>\n",
              "      <td>-0.134370</td>\n",
              "      <td>-3.274257</td>\n",
              "      <td>1.034436</td>\n",
              "      <td>2.173360</td>\n",
              "    </tr>\n",
              "    <tr>\n",
              "      <th>147</th>\n",
              "      <td>0.127181</td>\n",
              "      <td>-3.537217</td>\n",
              "      <td>-0.129118</td>\n",
              "      <td>-0.458789</td>\n",
              "    </tr>\n",
              "    <tr>\n",
              "      <th>154</th>\n",
              "      <td>-3.345110</td>\n",
              "      <td>-0.747215</td>\n",
              "      <td>0.037083</td>\n",
              "      <td>2.204188</td>\n",
              "    </tr>\n",
              "    <tr>\n",
              "      <th>155</th>\n",
              "      <td>-0.656704</td>\n",
              "      <td>0.580240</td>\n",
              "      <td>1.240555</td>\n",
              "      <td>-3.383151</td>\n",
              "    </tr>\n",
              "    <tr>\n",
              "      <th>266</th>\n",
              "      <td>-3.383673</td>\n",
              "      <td>0.194165</td>\n",
              "      <td>-0.983094</td>\n",
              "      <td>0.265976</td>\n",
              "    </tr>\n",
              "    <tr>\n",
              "      <th>585</th>\n",
              "      <td>1.251592</td>\n",
              "      <td>3.124484</td>\n",
              "      <td>-1.615031</td>\n",
              "      <td>-1.065587</td>\n",
              "    </tr>\n",
              "    <tr>\n",
              "      <th>626</th>\n",
              "      <td>0.354124</td>\n",
              "      <td>0.174535</td>\n",
              "      <td>0.273544</td>\n",
              "      <td>-3.255042</td>\n",
              "    </tr>\n",
              "    <tr>\n",
              "      <th>627</th>\n",
              "      <td>-0.724882</td>\n",
              "      <td>-1.317852</td>\n",
              "      <td>-0.306944</td>\n",
              "      <td>3.079764</td>\n",
              "    </tr>\n",
              "    <tr>\n",
              "      <th>915</th>\n",
              "      <td>3.168386</td>\n",
              "      <td>1.589032</td>\n",
              "      <td>0.142749</td>\n",
              "      <td>-2.629110</td>\n",
              "    </tr>\n",
              "    <tr>\n",
              "      <th>983</th>\n",
              "      <td>-2.100371</td>\n",
              "      <td>0.254466</td>\n",
              "      <td>0.292268</td>\n",
              "      <td>-3.125860</td>\n",
              "    </tr>\n",
              "  </tbody>\n",
              "</table>\n",
              "</div>"
            ],
            "text/plain": [
              "            0         1         2         3\n",
              "28   3.072518 -0.360508  1.294475 -0.339702\n",
              "100 -0.270435 -0.780706 -3.081795 -0.906949\n",
              "107 -0.134370 -3.274257  1.034436  2.173360\n",
              "147  0.127181 -3.537217 -0.129118 -0.458789\n",
              "154 -3.345110 -0.747215  0.037083  2.204188\n",
              "155 -0.656704  0.580240  1.240555 -3.383151\n",
              "266 -3.383673  0.194165 -0.983094  0.265976\n",
              "585  1.251592  3.124484 -1.615031 -1.065587\n",
              "626  0.354124  0.174535  0.273544 -3.255042\n",
              "627 -0.724882 -1.317852 -0.306944  3.079764\n",
              "915  3.168386  1.589032  0.142749 -2.629110\n",
              "983 -2.100371  0.254466  0.292268 -3.125860"
            ]
          },
          "metadata": {
            "tags": []
          },
          "execution_count": 49
        }
      ]
    },
    {
      "cell_type": "markdown",
      "metadata": {
        "id": "RD8se-KqsERd"
      },
      "source": [
        "# Manipulación de cadenas\n",
        "\n",
        "Python ha sido durante mucho tiempo un lenguaje popular de manipulación de datos sin procesar en parte debido a su facilidad de uso para el procesamiento de cadenas y texto. La mayoría de las operaciones de texto se simplifican con los métodos integrados del objeto de cadena. Para la coincidencia de patrones más complejos y las manipulaciones de texto, pueden ser necesarias expresiones regulares. pandas se suma a la mezcla al permitirle aplicar cadenas y expresiones regulares de manera concisa en conjuntos completos de datos, además de gestionar de forma eficiente la molestia de los datos faltantes."
      ]
    },
    {
      "cell_type": "code",
      "metadata": {
        "id": "0ckYHR1Ur-co"
      },
      "source": [
        "val = 'a,b,  patito'\n",
        "val"
      ],
      "execution_count": null,
      "outputs": []
    },
    {
      "cell_type": "markdown",
      "metadata": {
        "id": "4e-2_v0-scej"
      },
      "source": [
        "Podemos utilizar el método **split** que nos permite separar cadenas que posean algún tipo de separador. **split** generalmente se combina con **strip** que permite eliminar espacios en blanco"
      ]
    },
    {
      "cell_type": "code",
      "metadata": {
        "id": "v_lNvEHvsWc4",
        "colab": {
          "base_uri": "https://localhost:8080/"
        },
        "outputId": "037c61ea-63f0-47bb-dbbd-add70b7398af"
      },
      "source": [
        "val.split(',')"
      ],
      "execution_count": 51,
      "outputs": [
        {
          "output_type": "execute_result",
          "data": {
            "text/plain": [
              "['a', 'b', '  patito']"
            ]
          },
          "metadata": {
            "tags": []
          },
          "execution_count": 51
        }
      ]
    },
    {
      "cell_type": "code",
      "metadata": {
        "id": "8BP7kDEGsyX3"
      },
      "source": [
        "partes = [x.strip() for x in val.split(',')]\n",
        "partes"
      ],
      "execution_count": null,
      "outputs": []
    },
    {
      "cell_type": "markdown",
      "metadata": {
        "id": "ia9VyD0QsyAg"
      },
      "source": [
        "Una forma de unir partes de cadenas es usar el método **join**"
      ]
    },
    {
      "cell_type": "code",
      "metadata": {
        "id": "FhEC8MjEtHag"
      },
      "source": [
        "'::'.join(partes)"
      ],
      "execution_count": null,
      "outputs": []
    },
    {
      "cell_type": "markdown",
      "metadata": {
        "id": "ivGXepPDtQ80"
      },
      "source": [
        "Otros métodos que puedes utilizar para la búsqueda de subcadenas son **index** y **find**"
      ]
    },
    {
      "cell_type": "code",
      "metadata": {
        "id": "vlpmPH9WtZsk"
      },
      "source": [
        "'patito' in val"
      ],
      "execution_count": null,
      "outputs": []
    },
    {
      "cell_type": "code",
      "metadata": {
        "id": "bgnUx3bEtfz_"
      },
      "source": [
        "val.index(',') # Devuelve un excepción si no encuentra la cadena"
      ],
      "execution_count": null,
      "outputs": []
    },
    {
      "cell_type": "code",
      "metadata": {
        "id": "6b1FBQ-Jthf0"
      },
      "source": [
        "val.find(':') #Devuelve un -1 si no encuentra la cadena"
      ],
      "execution_count": null,
      "outputs": []
    },
    {
      "cell_type": "markdown",
      "metadata": {
        "id": "1MB9QEWYt4Vm"
      },
      "source": [
        "**replace** sustituye ocurrencias de un patrón a otro. Es comunmente utilizado para eliminar patrones, o también, pasar cadenas vacías"
      ]
    },
    {
      "cell_type": "code",
      "metadata": {
        "id": "wLsEH7ynt3yh"
      },
      "source": [
        "val.replace(',', '::')"
      ],
      "execution_count": null,
      "outputs": []
    },
    {
      "cell_type": "code",
      "metadata": {
        "id": "UN4LOJkjuF8K"
      },
      "source": [
        "val.replace(',', '')"
      ],
      "execution_count": null,
      "outputs": []
    },
    {
      "cell_type": "markdown",
      "metadata": {
        "id": "tszbFhZbuRTO"
      },
      "source": [
        "## Métodos Python Built-in\n",
        "\n",
        "A continuación se detallan algunos métodos Python para el manejo de cadenas.\n",
        "\n",
        "Argumento | Descripción\n",
        "---|---\n",
        "count | Devuelve el número de ocurrencias no superpuestas de subcadena en la cadena.\n",
        "endswith | Devuelve True si la cadena termina con sufijo.\n",
        "startswith | Devuelve verdadero si la cadena comienza con el prefijo.\n",
        "join | usa una cadena como delimitador para concatenar una secuencia de otras cadenas.\n",
        "index |  Devuelve la posición del primer carácter en la subcadena si se encuentra en la cadena; aumenta ValueError si no se encuentra.\n",
        "find| Devuelve posición de retorno del primer carácter de la primera aparición de subcadena en la cadena; como índice, pero devuelve –1 si no se encuentra.\n",
        "rfind | Devuelve la posición del primer carácter de la última aparición de la subcadena en la cadena; devuelve –1 si no se encuentra.\n",
        "replace | Reemplazar ocurrencias de cadena con otra cadena.\n",
        "strip, rstrip, lstrip |  Recortar espacios en blanco, incluidas las nuevas líneas; equivalente a x.strip () (y rstrip, lstrip, respectivamente) para cada elemento.\n",
        "split |  Divide la cadena de ruptura en la lista de subcadenas usando delimitador pasado.\n",
        "lower |  Convierte caracteres del alfabeto a minúsculas.\n",
        "upper | Convierte los caracteres del alfabeto en mayúsculas.\n",
        "casefold | Convierte caracteres en minúsculas y convierte cualquier combinación de caracteres variables específica de la región en una forma comparable común.\n",
        "just, rjust | Justificación izquierda o justificación derecha, respectivamente; rellena el lado opuesto de la cadena con espacios (o algún otro carácter de relleno) para devolver una cadena con un ancho mínimo.\n"
      ]
    }
  ]
}