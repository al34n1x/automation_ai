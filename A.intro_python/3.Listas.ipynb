{
  "cells": [
    {
      "cell_type": "markdown",
      "metadata": {
        "id": "view-in-github",
        "colab_type": "text"
      },
      "source": [
        "<a href=\"https://colab.research.google.com/github/al34n1x/2.ds_intro_python/blob/main/3.Listas.ipynb\" target=\"_parent\"><img src=\"https://colab.research.google.com/assets/colab-badge.svg\" alt=\"Open In Colab\"/></a>"
      ]
    },
    {
      "cell_type": "markdown",
      "metadata": {
        "colab_type": "toc",
        "id": "gw4syQrSDtD5"
      },
      "source": [
        ">[Listas](#scrollTo=enNql_q0xJTg)\n",
        "\n",
        ">>[Accediendo Elementos en una lista](#scrollTo=Tyic_TA3xdwx)\n",
        "\n",
        ">>[Modificando elementos en una lista](#scrollTo=HimGB7HNymz-)\n",
        "\n",
        ">>[Agregar elementos a una lista](#scrollTo=F4Z6xEVFy0Vq)\n",
        "\n",
        ">>>[Agregar elementos al final de una lista](#scrollTo=Ba24cUfpy90R)\n",
        "\n",
        ">>>[Insertar elementos en una lista](#scrollTo=fqtISzVRzbV6)\n",
        "\n",
        ">>>[Eliminando elementos de una lista](#scrollTo=pm0eckUFzqis)\n",
        "\n",
        ">>>[Eliminando un artículo usando el método pop ()](#scrollTo=--Dk1cTl0AfD)\n",
        "\n",
        ">>>[Eliminar un artículo por valor](#scrollTo=mc0Zgy5z0hYD)\n",
        "\n",
        ">>[Organización de listas](#scrollTo=vRZpM4AVCnM-)\n",
        "\n",
        ">>[Copiar una lista](#scrollTo=9FTazG5eE7oN)\n",
        "\n"
      ]
    },
    {
      "cell_type": "markdown",
      "metadata": {
        "id": "enNql_q0xJTg"
      },
      "source": [
        "# Listas\n",
        "\n",
        "Una lista es una colección de elementos en un orden particular. Puede hacer una lista que incluya las letras del alfabeto, los dígitos del 0 al 9 o los nombres de todas las personas de su familia. Puede poner lo que quiera en una lista y los elementos de su lista no tienen que estar relacionados de ninguna manera en particular. Debido a que una lista generalmente contiene más de un elemento, es una buena idea hacer que el nombre de la lista sea plural, como letras, dígitos o nombres.\n",
        "\n",
        "En Python, los corchetes ([]) indican una lista y los elementos individuales de la lista están separados por comas."
      ]
    },
    {
      "cell_type": "code",
      "execution_count": null,
      "metadata": {
        "id": "j4U_6b-wxIW9"
      },
      "outputs": [],
      "source": [
        "deadpool = ['banana', 'unicornio', 'Dopinder', 'Cable', 'Colossus', '<3 Wolverine <3']"
      ]
    },
    {
      "cell_type": "markdown",
      "metadata": {
        "id": "Tyic_TA3xdwx"
      },
      "source": [
        "## Accediendo Elementos en una lista\n",
        "\n",
        "Las listas son colecciones ordenadas, por lo que puede acceder a cualquier elemento de una lista indicándole a Python la posición, o índice, del elemento deseado. Para acceder a un elemento de una lista, escriba el nombre de la lista seguido del índice del elemento entre corchetes."
      ]
    },
    {
      "cell_type": "code",
      "execution_count": null,
      "metadata": {
        "id": "CqJJonu9xoIu"
      },
      "outputs": [],
      "source": [
        "print (deadpool[0])"
      ]
    },
    {
      "cell_type": "code",
      "execution_count": null,
      "metadata": {
        "id": "pkSpe5XBxs7R"
      },
      "outputs": [],
      "source": [
        "deadpool[0]"
      ]
    },
    {
      "cell_type": "markdown",
      "metadata": {
        "id": "Ortkfoj_x86S"
      },
      "source": [
        "También puede utilizar los métodos de cadena en cualquier elemento de esta lista. Por ejemplo, puede formatear el elemento 'banana' de manera más ordenada utilizando el método title ():"
      ]
    },
    {
      "cell_type": "code",
      "execution_count": null,
      "metadata": {
        "id": "-xcO5zFSyC2w"
      },
      "outputs": [],
      "source": [
        "deadpool[0].title()"
      ]
    },
    {
      "cell_type": "markdown",
      "metadata": {
        "id": "wGiX2O1KyYZo"
      },
      "source": [
        "Python tiene una sintaxis especial para acceder al último elemento de una lista. Al solicitar el elemento en el índice -1, Python siempre devuelve el último elemento de la lista:"
      ]
    },
    {
      "cell_type": "code",
      "execution_count": null,
      "metadata": {
        "id": "W6J3KMGsyaIs"
      },
      "outputs": [],
      "source": [
        "deadpool[-1]"
      ]
    },
    {
      "cell_type": "markdown",
      "metadata": {
        "id": "HimGB7HNymz-"
      },
      "source": [
        "## Modificando elementos en una lista\n",
        "\n",
        "La sintaxis para modificar un elemento es similar a la sintaxis para acceder a un elemento en una lista. Para cambiar un elemento, use el nombre de la lista seguido del índice del elemento que desea cambiar y luego proporcione el nuevo valor que desea que tenga ese elemento."
      ]
    },
    {
      "cell_type": "code",
      "execution_count": null,
      "metadata": {
        "id": "vjgUjHvayp8x"
      },
      "outputs": [],
      "source": [
        "deadpool[0] = 'Minion'\n",
        "deadpool"
      ]
    },
    {
      "cell_type": "markdown",
      "metadata": {
        "id": "F4Z6xEVFy0Vq"
      },
      "source": [
        "## Agregar elementos a una lista\n",
        "\n",
        "Es posible que desee agregar un nuevo elemento a una lista por muchas razones. Por ejemplo, es posible que desee hacer que aparezcan nuevos extraterrestres en un juego, agregar nuevos datos a una visualización o agregar nuevos usuarios registrados a un sitio web que ha creado. Python proporciona varias formas de agregar nuevos datos a listas existentes."
      ]
    },
    {
      "cell_type": "markdown",
      "metadata": {
        "id": "Ba24cUfpy90R"
      },
      "source": [
        "### Agregar elementos al final de una lista\n",
        "\n",
        "La forma más sencilla de agregar un nuevo elemento a una lista es agregar el elemento a la lista. Cuando agrega un elemento a una lista, el nuevo elemento se agrega al final de la lista. Usando la misma lista que teníamos en el ejemplo anterior, agregaremos el nuevo elemento 'Xavier' al final de la lista:"
      ]
    },
    {
      "cell_type": "code",
      "execution_count": null,
      "metadata": {
        "id": "7AERovjWzHBT"
      },
      "outputs": [],
      "source": [
        "deadpool.append('Xavier')\n",
        "deadpool"
      ]
    },
    {
      "cell_type": "markdown",
      "metadata": {
        "id": "fqtISzVRzbV6"
      },
      "source": [
        "### Insertar elementos en una lista\n",
        "\n",
        "Puede agregar un nuevo elemento en cualquier posición de su lista utilizando el método insert (). Para ello, especifica el índice del nuevo elemento y el valor del nuevo elemento."
      ]
    },
    {
      "cell_type": "code",
      "execution_count": null,
      "metadata": {
        "id": "Svz6ziDEzeEf"
      },
      "outputs": [],
      "source": [
        "deadpool.insert(0,'banana')\n",
        "deadpool"
      ]
    },
    {
      "cell_type": "markdown",
      "metadata": {
        "id": "pm0eckUFzqis"
      },
      "source": [
        "### Eliminando elementos de una lista\n",
        "\n",
        "A menudo, querrá eliminar un elemento o un conjunto de elementos de una lista. Por ejemplo, cuando un jugador derriba a un extraterrestre desde el cielo, lo más probable es que quieras eliminarlo de la lista de extraterrestres activos. O cuando un usuario decide cancelar su cuenta en una aplicación web que creó, querrá eliminar a ese usuario de la lista de usuarios activos. Puede eliminar un elemento según su posición en la lista o según su valor."
      ]
    },
    {
      "cell_type": "code",
      "execution_count": null,
      "metadata": {
        "id": "ubwhjfPfzv3N"
      },
      "outputs": [],
      "source": [
        "del deadpool[1]\n",
        "deadpool"
      ]
    },
    {
      "cell_type": "markdown",
      "metadata": {
        "id": "--Dk1cTl0AfD"
      },
      "source": [
        "### Eliminando un ítem usando el método pop ()\n",
        "\n",
        "A veces, querrá utilizar el valor de un elemento después de eliminarlo de una lista. Por ejemplo, es posible que desee obtener la posición x e y de un extraterrestre que acaba de ser derribado, para poder dibujar una explosión en esa posición. En una aplicación web, es posible que desee eliminar un usuario de una lista de miembros activos y luego agregar ese usuario a una lista de miembros inactivos.\n",
        "\n",
        "El método pop () elimina el último elemento de una lista, pero le permite trabajar con ese elemento después de eliminarlo. El término pop proviene de pensar en una lista como una pila de elementos y sacar un elemento de la parte superior de la pila. En esta analogía, la parte superior de una pila corresponde al final de una lista."
      ]
    },
    {
      "cell_type": "code",
      "execution_count": null,
      "metadata": {
        "id": "BlY_JQg70IBC"
      },
      "outputs": [],
      "source": [
        "deadpool.pop()\n",
        "deadpool"
      ]
    },
    {
      "cell_type": "code",
      "execution_count": null,
      "metadata": {
        "id": "-R8oEZLd0Q0b"
      },
      "outputs": [],
      "source": [
        "deadpool.pop(0)\n",
        "deadpool"
      ]
    },
    {
      "cell_type": "markdown",
      "metadata": {
        "id": "mc0Zgy5z0hYD"
      },
      "source": [
        "### Eliminar un ítem por valor\n",
        "\n",
        "A veces, no sabrá la posición del valor que desea eliminar de una lista. Si solo conoce el valor del elemento que desea eliminar, puede usar el método remove().\n",
        "\n",
        "Por ejemplo, digamos que queremos eliminar el valor 'Cable' de la lista de deadpool."
      ]
    },
    {
      "cell_type": "code",
      "execution_count": null,
      "metadata": {
        "id": "2cirjU8d0mLj"
      },
      "outputs": [],
      "source": [
        "deadpool.remove('Cable')\n",
        "deadpool"
      ]
    },
    {
      "cell_type": "markdown",
      "metadata": {
        "id": "W3DUHmLa0zrK"
      },
      "source": [
        "El método **remove()** elimina solo la primera aparición del valor que especifique. Si existe la posibilidad de que el valor aparezca más de una vez en la lista, deberá utilizar una función para eliminar todas las apariciones.\n",
        "\n",
        "Usemos la siguiente lista como ejemplo."
      ]
    },
    {
      "cell_type": "code",
      "execution_count": null,
      "metadata": {
        "colab": {
          "base_uri": "https://localhost:8080/"
        },
        "id": "uPgoU1CJ1BPt",
        "outputId": "f3bdc5a5-9d31-4aaf-c624-5acd180ea208"
      },
      "outputs": [
        {
          "data": {
            "text/plain": [
              "['banana',\n",
              " 'unicornio',\n",
              " 'Dopinder',\n",
              " 'Cable',\n",
              " 'Colossus',\n",
              " '<3 Wolverine <3',\n",
              " 'Cable']"
            ]
          },
          "execution_count": 11,
          "metadata": {
            "tags": []
          },
          "output_type": "execute_result"
        }
      ],
      "source": [
        "deadpool = ['banana', 'unicornio', 'Dopinder', 'Cable', 'Colossus', '<3 Wolverine <3', 'Cable'] # Remove all the Cable entries\n",
        "deadpool"
      ]
    },
    {
      "cell_type": "code",
      "execution_count": null,
      "metadata": {
        "id": "-nxqx1h21Kxi"
      },
      "outputs": [],
      "source": [
        "i = 0\n",
        "list_len = len(deadpool)\n",
        "print (list_len)\n",
        "for i in range (len(deadpool)):\n",
        "  print (deadpool[i])\n",
        "  if (deadpool[i] == 'Cable'):\n",
        "    deadpool.remove('Cable')\n",
        "\n",
        "deadpool\n",
        "\n",
        "# Cuál es el error? "
      ]
    },
    {
      "cell_type": "code",
      "execution_count": null,
      "metadata": {
        "id": "xrdHQiI89Q5C"
      },
      "outputs": [],
      "source": [
        "deadpool = ['banana', 'unicornio', 'Dopinder', 'Cable', 'Colossus', '<3 Wolverine <3', 'Cable'] # Remove all the Cable entries\n",
        "deadpool"
      ]
    },
    {
      "cell_type": "code",
      "execution_count": null,
      "metadata": {
        "id": "kmWCv6TZ87b_"
      },
      "outputs": [],
      "source": [
        "i = 0\n",
        "\n",
        "while (i < len(deadpool)):\n",
        "  i += 1\n",
        "  if (deadpool[i] == 'Cable'):\n",
        "    deadpool.remove('Cable')\n",
        "\n",
        "deadpool"
      ]
    },
    {
      "cell_type": "markdown",
      "metadata": {
        "id": "vRZpM4AVCnM-"
      },
      "source": [
        "## Organización de listas\n",
        "\n",
        "A menudo, sus listas se crearán en un orden impredecible, porque no siempre puede controlar el orden en el que los usuarios proporcionan sus datos. Aunque esto es inevitable en la mayoría de las circunstancias, con frecuencia querrá presentar su información en un orden particular. A veces querrá conservar el orden original de su lista y otras veces querrá cambiar el orden original. Python proporciona varias formas diferentes de organizar sus listas, según la situación."
      ]
    },
    {
      "cell_type": "code",
      "execution_count": null,
      "metadata": {
        "id": "K2JbWmn_CvUn"
      },
      "outputs": [],
      "source": [
        "deadpool.sort()\n",
        "deadpool"
      ]
    },
    {
      "cell_type": "markdown",
      "metadata": {
        "id": "v6zZKUKhC77b"
      },
      "source": [
        "Para mantener el orden original de una lista pero presentarla en un orden ordenado, puede usar la función **sorted()**. La función **sorted()** le permite mostrar su lista en un orden particular, pero no afecta el orden real de la lista."
      ]
    },
    {
      "cell_type": "code",
      "execution_count": null,
      "metadata": {
        "id": "Cxjjz8z_C9-A"
      },
      "outputs": [],
      "source": [
        "deadpool = ['banana', 'unicornio', 'Dopinder', 'Cable', 'Colossus', '<3 Wolverine <3', 'Cable']\n",
        "deadpool"
      ]
    },
    {
      "cell_type": "code",
      "execution_count": null,
      "metadata": {
        "id": "Ye5vm7_WDEX9"
      },
      "outputs": [],
      "source": [
        "print (sorted(deadpool))"
      ]
    },
    {
      "cell_type": "code",
      "execution_count": null,
      "metadata": {
        "id": "imkCMxqmDH__"
      },
      "outputs": [],
      "source": [
        "deadpool"
      ]
    },
    {
      "cell_type": "markdown",
      "metadata": {
        "id": "vwZrw2gqDOxH"
      },
      "source": [
        "Para invertir el orden original de una lista, puede utilizar el método reverse (). Si originalmente almacenamos la lista de autos en orden cronológico de acuerdo con cuándo los poseemos, podríamos reorganizar fácilmente la lista en orden cronológico inverso:"
      ]
    },
    {
      "cell_type": "code",
      "execution_count": null,
      "metadata": {
        "id": "vp-tT6OuDRT7"
      },
      "outputs": [],
      "source": [
        "deadpool.reverse()\n",
        "deadpool"
      ]
    },
    {
      "cell_type": "markdown",
      "metadata": {
        "id": "9FTazG5eE7oN"
      },
      "source": [
        "## Copiar una lista\n",
        "\n",
        "A menudo, querrá comenzar con una lista existente y hacer una lista completamente nueva basada en la primera. Exploremos cómo funciona la copia de una lista y examinemos una situación en la que es útil copiar una lista.\n",
        "\n",
        "Para copiar una lista, puede crear un sector que incluya toda la lista original omitiendo el primer índice y el segundo índice ([:]). Esto le dice a Python que haga un corte que comience en el primer elemento y termine con el último elemento, produciendo una copia de la lista completa."
      ]
    },
    {
      "cell_type": "code",
      "execution_count": null,
      "metadata": {
        "id": "CTPSms0TE_Qf"
      },
      "outputs": [],
      "source": [
        "deadpool_copy = deadpool [:]\n",
        "deadpool_copy"
      ]
    }
  ],
  "metadata": {
    "colab": {
      "name": "Listas.ipynb",
      "provenance": [],
      "include_colab_link": true
    },
    "kernelspec": {
      "display_name": "Python 3 (ipykernel)",
      "language": "python",
      "name": "python3"
    },
    "language_info": {
      "codemirror_mode": {
        "name": "ipython",
        "version": 3
      },
      "file_extension": ".py",
      "mimetype": "text/x-python",
      "name": "python",
      "nbconvert_exporter": "python",
      "pygments_lexer": "ipython3",
      "version": "3.8.15"
    }
  },
  "nbformat": 4,
  "nbformat_minor": 0
}