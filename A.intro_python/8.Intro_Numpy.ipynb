{
  "nbformat": 4,
  "nbformat_minor": 0,
  "metadata": {
    "colab": {
      "name": "NumPy.ipynb",
      "provenance": [],
      "authorship_tag": "ABX9TyPfgfgHC8JUSNSEPzRlbU7A",
      "include_colab_link": true
    },
    "kernelspec": {
      "name": "python3",
      "display_name": "Python 3"
    }
  },
  "cells": [
    {
      "cell_type": "markdown",
      "metadata": {
        "id": "view-in-github",
        "colab_type": "text"
      },
      "source": [
        "<a href=\"https://colab.research.google.com/github/al34n1x/2.ds_intro_python/blob/main/8.Intro_Numpy.ipynb\" target=\"_parent\"><img src=\"https://colab.research.google.com/assets/colab-badge.svg\" alt=\"Open In Colab\"/></a>"
      ]
    },
    {
      "cell_type": "markdown",
      "metadata": {
        "id": "KDeHW28d5TBn",
        "colab_type": "toc"
      },
      "source": [
        ">[Numpy](#scrollTo=N0GJeEJQRGBh)\n",
        "\n",
        ">>[Comparando nmarrays y Python Arrays](#scrollTo=Q_VOhzu1VVkE)\n",
        "\n",
        ">>[NumPy ndarray: Un objeto Array Multidimensional](#scrollTo=DlQjmD-7YZns)\n",
        "\n",
        ">>[Creando Arrays](#scrollTo=9PWddxWrce5U)\n",
        "\n",
        ">>[Tipo de datos](#scrollTo=UVBAQBG0gOTV)\n",
        "\n",
        ">>[Aritmética con NumPy Array](#scrollTo=DQhuGqqahFe8)\n",
        "\n",
        ">>[Slicing e Indexing básico](#scrollTo=_tF-mjZ_idWJ)\n",
        "\n",
        ">>[Indexing con Slicing](#scrollTo=2pYCvStZoeUk)\n",
        "\n",
        ">>[Slicing en array de dos dimensiones](#scrollTo=EtaiNVier6XI)\n",
        "\n",
        ">>[Fancy Indexing](#scrollTo=BO0IJOvc0U7z)\n",
        "\n",
        ">>[Funciones universales para el manejo de arrays](#scrollTo=qGdasrMY1sK8)\n",
        "\n",
        ">[Programación con arrays](#scrollTo=bjMDpJi93Apj)\n",
        "\n"
      ]
    },
    {
      "cell_type": "markdown",
      "metadata": {
        "id": "N0GJeEJQRGBh"
      },
      "source": [
        "#Numpy\n",
        "\n",
        "Numpy, es una combinación de palabras, `Numerical` y `Python`. Es uno de los paquetes más importantes en Python para el computo númerico.\n",
        "La mayoría de los paquetes que proveen cálculos científicos utilizan objetos **NumPy** como elemento para intercambio de datos.\n",
        "\n",
        "Estás son algunos elementos que utilizaremos con NumPy:\n",
        "\n",
        "* **ndarray**: Una eficiente matriz *(Array=Arreglo)* multidimensional que provee operaciones aritmeticas entre arrays de forma flexible y rápidas.\n",
        "\n",
        "* Funciones matemáticas para operar entre arrays de datos sin tener que escribir Loops. **AHHHH!**\n",
        "\n",
        "\n",
        "\n",
        "&nbsp; &nbsp; &nbsp; &nbsp;&nbsp; &nbsp; &nbsp; &nbsp; &nbsp; &nbsp; &nbsp; &nbsp;&nbsp; &nbsp; &nbsp; &nbsp; &nbsp; &nbsp; &nbsp; &nbsp; &nbsp; &nbsp; &nbsp; &nbsp; <img src=\"https://pm1.narvii.com/6240/84538693599c0871fec9e10f1fd0586fd3c284c4_hq.jpg\"  width=\"250\" height=\"250\" />\n",
        "\n",
        "* Herramientas para escribir array en disco y trabajarlos con archivos mapeados en memoria\n",
        "\n",
        "* Algebra lineal, generación aleatoria de números, y algunas transformaciones.\n",
        "\n",
        "Debido a que NumPy provee una facil de usar API (Application Programming Interface) para interactuar con otros lenguajes como C, es muy directo pasar datos de una libería externa en bajo nivel a Python.\n",
        "\n",
        "Mientras que NumPy por si mismo no provee ninguna funcionalidad de modelado o científica, entender arrays NumPy y computo de arrays, te ayudará a usar otras herramientas como **Pandas** más eficientemente.\n",
        "\n",
        "Principalmente nos focalizaremos en: \n",
        "\n",
        "* Operaciones entre arrays, data mining, y data cleaning, Filtering y transformaciones.\n",
        "\n",
        "* Operaciones entre Arrays.\n",
        "\n",
        "* Manipulación de datos mediante unión y consolidación (Join, Merge) utilizando datasets heterogéneos.\n",
        "\n",
        "* Condiciones lógicas aplicadas a arrays.\n",
        "\n",
        "Mientras que NumPy provee las bases para calculo computacional genérico, científicos de datos utilizan Pandas como el pilar de la mayoría de los desarrollos estadísticos y analíticos, especialmente con Datos tabulares. Panda también provee algunas funcionalidades que son específicas del dominio como manipulación de series.\n"
      ]
    },
    {
      "cell_type": "markdown",
      "metadata": {
        "id": "Q_VOhzu1VVkE"
      },
      "source": [
        "## Comparando nmarrays y Python Arrays\n",
        "\n",
        "Una de las razones por las que NumPy es tan importante para computo númerico en Python es debido a su eficiencia en el manejo de largos arrays (Arreglos) de datos.\n",
        "\n",
        "NumPy internamente almacena los datos de forma contigua en bloques de memoria, independientemente de otros objetos Python. La librería Numpy de algoritmo puede operar en memoria sin perdida de performance. Los arrays de Numpy ocupan menos espacio que las listas de Python.\n",
        "\n",
        "**Cuál será la razón?**\n",
        "\n",
        "![](https://media1.tenor.com/images/4704d511d603640b82c2aeed0cc3af31/tenor.gif?itemid=11691381)\n",
        "\n",
        ".. Sigamos\n",
        "\n",
        "Las operaciones NumPy se comportan mejor en operaciones computacionales complejas en arrays sin la necesidad de utilizar loops de Python.\n",
        "\n",
        "Para darles una idea de la diferencia de performance, veamos el siguiente código aplicando NumPy Arrays y listas Python\n"
      ]
    },
    {
      "cell_type": "code",
      "metadata": {
        "id": "t2v-Iq6WQ_yV"
      },
      "source": [
        "import numpy as np\n",
        "my_arr = np.arange(10000000)  # Utilizando NumPy Arrays\n",
        "my_list = list(range(10000000)) # Utilizando Listas Python"
      ],
      "execution_count": null,
      "outputs": []
    },
    {
      "cell_type": "code",
      "metadata": {
        "id": "oeSMbSq7YAL0"
      },
      "source": [
        "%time for _ in range(10): my_arr2 = my_arr * 2\n",
        "%time for _ in range(10): my_list2 = [x * 2 for x in my_list]"
      ],
      "execution_count": null,
      "outputs": []
    },
    {
      "cell_type": "markdown",
      "metadata": {
        "id": "DlQjmD-7YZns"
      },
      "source": [
        "## NumPy ndarray: Un objeto Array Multidimensional\n",
        "Uno de las principales capacidad de NumPy es el N-Dimensional array, o también conocido como **ndarray**, cual es un rápido, y flexible container de largos datasets.\n",
        "Los arreglos permiten ejecutar operaciones matemáticas en un bloque completo usando sintaxis equivalente a elementos escalares.\n",
        "\n",
        "Para darte una pequeña introducción de como NumPy puede gestionar arrays de forma similar que objetos Python, ejecutemos el siguiente código.\n"
      ]
    },
    {
      "cell_type": "code",
      "metadata": {
        "id": "JXPTW_eyYW-C"
      },
      "source": [
        "import numpy as np #Importamos Numpy\n",
        "# Generamos Data random\n",
        "data = np.random.randn(2, 3)\n",
        "data"
      ],
      "execution_count": null,
      "outputs": []
    },
    {
      "cell_type": "code",
      "metadata": {
        "id": "pvO4TysUZVys"
      },
      "source": [
        "data * 10"
      ],
      "execution_count": null,
      "outputs": []
    },
    {
      "cell_type": "code",
      "metadata": {
        "id": "hKgOdJU-aBPP"
      },
      "source": [
        "data * data #Multiplo - Corregir agregar Multiplo matrices 3 x 3"
      ],
      "execution_count": null,
      "outputs": []
    },
    {
      "cell_type": "code",
      "metadata": {
        "id": "eKq3zYeLZYgk"
      },
      "source": [
        "data.shape"
      ],
      "execution_count": null,
      "outputs": []
    },
    {
      "cell_type": "code",
      "metadata": {
        "id": "6EJx2tebu1JI"
      },
      "source": [
        "data?"
      ],
      "execution_count": null,
      "outputs": []
    },
    {
      "cell_type": "code",
      "metadata": {
        "id": "i_tQHeYBZugL"
      },
      "source": [
        "data.dtype"
      ],
      "execution_count": null,
      "outputs": []
    },
    {
      "cell_type": "code",
      "metadata": {
        "id": "53gcV4d-0_8w"
      },
      "source": [
        "# Producto entre matrices\n",
        "a = np.matrix([[1, 2], [3, 4]]) \n",
        "b = np.matrix([[2,3], [1,2]])\n",
        "\n",
        "c = np.dot(a,b) #función producto de matrices\n",
        "c\n"
      ],
      "execution_count": null,
      "outputs": []
    },
    {
      "cell_type": "markdown",
      "metadata": {
        "id": "9PWddxWrce5U"
      },
      "source": [
        "## Creando Arrays\n",
        "\n",
        "La forma más simple de crear arrays es utilizando la función array. Dicha función acepta secuencia de objetos, incluidos otros arrays, y produce un nuevo array NumPy que contiene la data que se ha pasado. Por ejemplo:"
      ]
    },
    {
      "cell_type": "code",
      "metadata": {
        "id": "9hB38rp4cf8l"
      },
      "source": [
        "data1 = [6, 7.5, 8, 0, 1] #Lista Python\n",
        "arr1 = np.array(data1) #NumPy Array\n",
        "arr1\n"
      ],
      "execution_count": null,
      "outputs": []
    },
    {
      "cell_type": "markdown",
      "metadata": {
        "id": "remDj1B-dl9d"
      },
      "source": [
        "Secuencias anidades, son convertidas a arrays multidimensionales.\n"
      ]
    },
    {
      "cell_type": "code",
      "metadata": {
        "id": "yYjbd1A7cfj_"
      },
      "source": [
        "data2 = [[1, 2, 3, 4], [5, 6, 7, 8]] # Anido dos Listas\n",
        "arr2 = np.array(data2) # Lo convierto en Array\n",
        "arr2"
      ],
      "execution_count": null,
      "outputs": []
    },
    {
      "cell_type": "code",
      "metadata": {
        "id": "Zp2IMdMIcehN"
      },
      "source": [
        "arr2.ndim"
      ],
      "execution_count": null,
      "outputs": []
    },
    {
      "cell_type": "code",
      "metadata": {
        "id": "Te6ZYfabc4IM"
      },
      "source": [
        "arr2.shape"
      ],
      "execution_count": null,
      "outputs": []
    },
    {
      "cell_type": "code",
      "metadata": {
        "id": "T-2AxsgZRv5i"
      },
      "source": [
        "data3 = [[1,2,3,4], arr1] #Que sucede aquí?\n",
        "data3"
      ],
      "execution_count": null,
      "outputs": []
    },
    {
      "cell_type": "markdown",
      "metadata": {
        "id": "iLdTYwT2d28c"
      },
      "source": [
        "Al menos que se especifique, **np.array** intenta inferir el mejor tipo de dato para el array creado. El tipo de dato es almacenado en un tipo especial de metadato. Por ejemplo:"
      ]
    },
    {
      "cell_type": "code",
      "metadata": {
        "id": "Vk_bDoGAceS_"
      },
      "source": [
        "arr1.dtype # Tipo de dato array1"
      ],
      "execution_count": null,
      "outputs": []
    },
    {
      "cell_type": "code",
      "metadata": {
        "id": "hmAiRMgLc8uu"
      },
      "source": [
        "arr2.dtype # Tipo de dato array2"
      ],
      "execution_count": null,
      "outputs": []
    },
    {
      "cell_type": "markdown",
      "metadata": {
        "id": "OlzcMwHSePKv"
      },
      "source": [
        "Adicionalmente, **np.array** posee un número de funciones para crear nuevos arrays. Por ejemplo, crear arrays solo con ceros y unos respectivamente, con una dada longitud y forma.\n"
      ]
    },
    {
      "cell_type": "code",
      "metadata": {
        "id": "cfPJxRgAcqJ7"
      },
      "source": [
        "np.zeros(10)"
      ],
      "execution_count": null,
      "outputs": []
    },
    {
      "cell_type": "code",
      "metadata": {
        "id": "XhMOOZDheo6A"
      },
      "source": [
        "arr4 = np.zeros((3, 6)) #3 filas 6 columnas de ceros\n",
        "arr4"
      ],
      "execution_count": null,
      "outputs": []
    },
    {
      "cell_type": "markdown",
      "metadata": {
        "id": "Mle0OOiTe77_"
      },
      "source": [
        "Con una longitud particular, **np.empty** crea un array sin inicializar y sin valores particulares."
      ]
    },
    {
      "cell_type": "code",
      "metadata": {
        "id": "U91sWuI4eomP"
      },
      "source": [
        "np.empty((4, 3, 2)) #4 Arrays de 2 objetos de 3 filas y 2 columnas cada uno"
      ],
      "execution_count": null,
      "outputs": []
    },
    {
      "cell_type": "code",
      "metadata": {
        "id": "i05aMkUycspA"
      },
      "source": [
        "np.arange(15)"
      ],
      "execution_count": null,
      "outputs": []
    },
    {
      "cell_type": "markdown",
      "metadata": {
        "id": "UVBAQBG0gOTV"
      },
      "source": [
        "## Tipo de datos\n",
        "\n",
        "Puedes explicitamente convertir o castear un array de un tipo de dato a otro usando el método **astype** \n"
      ]
    },
    {
      "cell_type": "code",
      "metadata": {
        "id": "RyyZspZ2gOB4"
      },
      "source": [
        "arr = np.array([1, 2, 3, 4, 5])\n",
        "arr.dtype"
      ],
      "execution_count": null,
      "outputs": []
    },
    {
      "cell_type": "code",
      "metadata": {
        "id": "UaJhu9GIg1Rl"
      },
      "source": [
        "float_arr = arr.astype(np.float64) # Tomamos el array arr y lo casteamos a float\n",
        "float_arr.dtype\n",
        "print (float_arr)"
      ],
      "execution_count": null,
      "outputs": []
    },
    {
      "cell_type": "markdown",
      "metadata": {
        "id": "DQhuGqqahFe8"
      },
      "source": [
        "## Aritmética con NumPy Array\n",
        "\n",
        "Arrays son importante porque permite expresar operaciones batch en datos sin tener que escribir loops. Cualquier operación aritmética entre arrays del mismo tamaño aplica la operación a través de los elementos.\n"
      ]
    },
    {
      "cell_type": "code",
      "metadata": {
        "id": "wT__zk1khf2F"
      },
      "source": [
        "arr = np.array([[1., 2., 3.], [4., 5., 6.]])\n",
        "print (arr)\n",
        "print ('\\n')\n",
        "print (arr * arr)\n",
        "print ('\\n')\n",
        "print (arr - arr)\n",
        "print ('\\n')"
      ],
      "execution_count": null,
      "outputs": []
    },
    {
      "cell_type": "code",
      "metadata": {
        "id": "3EsdOBMOiCtL"
      },
      "source": [
        "print (1 / arr)\n",
        "print ('\\n')\n",
        "print (arr ** 3)"
      ],
      "execution_count": null,
      "outputs": []
    },
    {
      "cell_type": "code",
      "metadata": {
        "id": "6isJZhSyiGfw"
      },
      "source": [
        "arr2 = np.array([[0., 4., 1.], [7., 2., 12.]])\n",
        "arr2"
      ],
      "execution_count": null,
      "outputs": []
    },
    {
      "cell_type": "code",
      "metadata": {
        "id": "sKaMGP8WiJk7"
      },
      "source": [
        "arr2 > arr #Devolverá un True o False"
      ],
      "execution_count": null,
      "outputs": []
    },
    {
      "cell_type": "markdown",
      "metadata": {
        "id": "_tF-mjZ_idWJ"
      },
      "source": [
        "## Slicing e Indexing básico\n",
        "\n",
        "Los índices en arrays NumPuy permiten seleccionar un subset individual de elementos. Los arrays simples son similares en comportamiento a las listas. Pero a medida que avanzamos, utilizar NumPy arrays es mucho mas útil."
      ]
    },
    {
      "cell_type": "code",
      "metadata": {
        "id": "bbDcV427i_Il"
      },
      "source": [
        "arr = np.arange(10)\n",
        "arr"
      ],
      "execution_count": null,
      "outputs": []
    },
    {
      "cell_type": "code",
      "metadata": {
        "id": "HhBy6uhmjDhf"
      },
      "source": [
        "print (arr[5])\n",
        "print (arr[5:8])\n",
        "arr[5:8] = 12\n",
        "print (arr)"
      ],
      "execution_count": null,
      "outputs": []
    },
    {
      "cell_type": "markdown",
      "metadata": {
        "id": "Bvy-8GSqjiZv"
      },
      "source": [
        "El slice vacío asignará el mismo valor a todo el array\n"
      ]
    },
    {
      "cell_type": "code",
      "metadata": {
        "id": "j_pe8YHqjp3w"
      },
      "source": [
        "arr_slice = np.zeros(10)\n",
        "print(arr_slice)\n",
        "arr_slice[:] = 64\n",
        "arr_slice"
      ],
      "execution_count": null,
      "outputs": []
    },
    {
      "cell_type": "markdown",
      "metadata": {
        "id": "Jq3-CKKhkJ8p"
      },
      "source": [
        "Con arrays de mayor dimensión, tienes muchas opciones. En un array de dos dimensiones, los elementos de cada índice no son más escalares, sino arrays de una dimensión.\n"
      ]
    },
    {
      "cell_type": "code",
      "metadata": {
        "id": "7uHsf8p0khHK"
      },
      "source": [
        "import numpy as np\n",
        "arr2d = np.array([[1, 2, 3], [4, 5, 6], [7, 8, 9]])\n",
        "arr2d[1:, :2]\n"
      ],
      "execution_count": null,
      "outputs": []
    },
    {
      "cell_type": "markdown",
      "metadata": {
        "id": "1fnPvP0YlYm7"
      },
      "source": [
        "Una forma fácil de ver los arrays multidimensionales es por ejemplo de la siguiente forma.\n",
        "Tomamos el Eje 0 (axis 0) como las filas, y el Eje 1 (axis 1) como las columnas\n",
        "\n",
        "<img src=\"https://github.com/al34n1x/datascience/blob/master/img/array.png?raw=true\" width=\"400\" height=\"300\" />\n",
        "\n"
      ]
    },
    {
      "cell_type": "markdown",
      "metadata": {
        "id": "2pYCvStZoeUk"
      },
      "source": [
        "## Indexing con Slicing\n",
        "\n",
        "Indices y Slices funcionan de la misma manera en arrays que en listas.\n",
        "Así mismo podemos combinar el uso de índices con slices para extraer subitems de posiciones específicas del array."
      ]
    },
    {
      "cell_type": "code",
      "metadata": {
        "id": "HmHSPWrYoeBw"
      },
      "source": [
        "print (arr2d)\n",
        "print ('\\n')\n",
        "arr2d[:2, 1:] # Del primer item extraemos los números desde la posición 1 en adelante, \n",
        "              # y del segundo ítem del array extraemos desde la posición 1 en adelante"
      ],
      "execution_count": null,
      "outputs": []
    },
    {
      "cell_type": "code",
      "metadata": {
        "id": "8v0fX8YtUIWq"
      },
      "source": [
        "list = [1,2,3,4,5]\n",
        "list [1:3]"
      ],
      "execution_count": null,
      "outputs": []
    },
    {
      "cell_type": "markdown",
      "metadata": {
        "id": "0rNcdGXDqAA6"
      },
      "source": [
        "Cuando rebanamos de esta forma, obtenemos vista de arrays dentro del mismo numero de dimensiones. Mezclando índices enteros y slides, podes obtener  rebanadas de una dimensión inferior.\n",
        "\n",
        "Por ejemplo, puedo seleccionar la primera columna pero solo las primeras dos filas de la misma mediante la siguiente sentencia.\n"
      ]
    },
    {
      "cell_type": "code",
      "metadata": {
        "id": "lgdSIxEfksVN"
      },
      "source": [
        "print (arr2d)"
      ],
      "execution_count": null,
      "outputs": []
    },
    {
      "cell_type": "code",
      "metadata": {
        "id": "7hhvkJUzpvdy"
      },
      "source": [
        "arr2d[:2, 0]"
      ],
      "execution_count": null,
      "outputs": []
    },
    {
      "cell_type": "markdown",
      "metadata": {
        "id": "vbDP5MBbqlCH"
      },
      "source": [
        "Similarmente, puedes seleccionar la tercera columna pero solo la primera fila con la siguiente sentencia.\n",
        "\n"
      ]
    },
    {
      "cell_type": "code",
      "metadata": {
        "id": "APlzNugyqxH9"
      },
      "source": [
        "print (arr2d)\n",
        "print ('\\n')\n",
        "arr2d[:2, 2]"
      ],
      "execution_count": null,
      "outputs": []
    },
    {
      "cell_type": "code",
      "metadata": {
        "id": "M7V5YCF_rYin"
      },
      "source": [
        "print (arr2d)\n",
        "print ('\\n')\n",
        "arr2d[:, :1] #Que me mostrará?"
      ],
      "execution_count": null,
      "outputs": []
    },
    {
      "cell_type": "markdown",
      "metadata": {
        "id": "EtaiNVier6XI"
      },
      "source": [
        "## Slicing en array de dos dimensiones\n",
        "\n",
        "Este gráfico puede ayudarte durante tu trabajo desarrollando código con NumPy.\n",
        "\n",
        "\n",
        "<img src=\"https://github.com/al34n1x/datascience/blob/master/img/array_shapes.png?raw=true\" width=\"380\" height=\"400\" />\n"
      ]
    },
    {
      "cell_type": "code",
      "metadata": {
        "id": "IV-QsLIhlxlV"
      },
      "source": [
        "arr2d[2,:]"
      ],
      "execution_count": null,
      "outputs": []
    },
    {
      "cell_type": "code",
      "metadata": {
        "id": "MWdgCsa4sR6y"
      },
      "source": [
        "arr2d[:2, 1:] = 0\n",
        "arr2d"
      ],
      "execution_count": null,
      "outputs": []
    },
    {
      "cell_type": "markdown",
      "metadata": {
        "id": "BO0IJOvc0U7z"
      },
      "source": [
        "## Fancy Indexing\n",
        "\n",
        "Fancy Indexing es un termino adoptado por NumPy para describir el uso de índices utilizando arreglos de enteros. Supongamos un array de  8 x 4:"
      ]
    },
    {
      "cell_type": "code",
      "metadata": {
        "id": "A8C1osX90pH8"
      },
      "source": [
        "arr = np.empty((8, 4))\n",
        "for i in range(8):\n",
        "  arr[i] = i\n",
        "\n",
        "arr"
      ],
      "execution_count": null,
      "outputs": []
    },
    {
      "cell_type": "markdown",
      "metadata": {
        "id": "kf69K1w609_6"
      },
      "source": [
        "Para seleccionar un subset de filas en un orden particular, simplemente le pasas una lista o un ndarray de enteros especificando el orden deseado:\n"
      ]
    },
    {
      "cell_type": "code",
      "metadata": {
        "id": "edm246U309T4"
      },
      "source": [
        "arr[[4, 3, 0, 6]]"
      ],
      "execution_count": null,
      "outputs": []
    },
    {
      "cell_type": "markdown",
      "metadata": {
        "id": "qGdasrMY1sK8"
      },
      "source": [
        "## Funciones universales para el manejo de arrays\n",
        "\n",
        "Una función universal o **ufunc** es una función que puede aplicarse a todos los datos del ndarray. Puedes pensar como funciones simples que pueden tomar un valor escalar y producir muchos escalares como resultado.\n"
      ]
    },
    {
      "cell_type": "code",
      "metadata": {
        "id": "xGo-qR_a2IQz"
      },
      "source": [
        "arr = np.arange(10)\n",
        "print(arr)\n",
        "np.sqrt(arr) # Nos dara la raíz cuadrada de todos los elementos del array."
      ],
      "execution_count": null,
      "outputs": []
    },
    {
      "cell_type": "code",
      "metadata": {
        "id": "xzuoEYag2Wf6"
      },
      "source": [
        "np.exp(arr) # Que hará esta función?"
      ],
      "execution_count": null,
      "outputs": []
    },
    {
      "cell_type": "markdown",
      "metadata": {
        "id": "7qH18aun2nlX"
      },
      "source": [
        "Existen otras funciones binarias, que necesitan de dos argumentos para operar, por ejemplo las funciones Max o Min"
      ]
    },
    {
      "cell_type": "code",
      "metadata": {
        "id": "zEIZqFX22u-b"
      },
      "source": [
        "x = np.random.randn(8)\n",
        "y = np.random.randn(8)\n",
        "print(x)\n",
        "print(y)"
      ],
      "execution_count": null,
      "outputs": []
    },
    {
      "cell_type": "code",
      "metadata": {
        "id": "-g5NDf5gmlmi"
      },
      "source": [
        "np.maximum(x, y)"
      ],
      "execution_count": null,
      "outputs": []
    },
    {
      "cell_type": "markdown",
      "metadata": {
        "id": "bjMDpJi93Apj"
      },
      "source": [
        "# Programación con arrays\n",
        "\n",
        "Usar arrays Numpy permite expresar diferentes tipo de datos como expresiones concisas de arrays, que de otra manera requerirían utilizar loops.\n",
        "Está práctica de reemplazar de forma explicita el uso de loops con expresiones de array se conoce comunment como vectorización. En general, vectorizar operaciones de array serán mucho más rápidas que su contraparte pura en Python.\n",
        "\n",
        "Como ejemplo, supongamos evaluar la función `sqrt(x^2 + y^2)` a través de una grilla de valores. La función **np.meshgrid** toma dos arrays de 1 dimension y produce dos arrays de dos dimensiones correspondiente al par (x,y) en dos arrays:\n",
        "\n"
      ]
    },
    {
      "cell_type": "code",
      "metadata": {
        "id": "jRWneVHU3ART"
      },
      "source": [
        "points = np.arange(0, 11, 1) # 1000 equally spaced points\n",
        "xs = np.meshgrid(points, points)\n",
        "ys = np.meshgrid(points, points)\n",
        "ys"
      ],
      "execution_count": null,
      "outputs": []
    },
    {
      "cell_type": "code",
      "metadata": {
        "id": "Zsb41P2M427t"
      },
      "source": [
        "z = np.sqrt(xs + ys)\n",
        "z"
      ],
      "execution_count": null,
      "outputs": []
    },
    {
      "cell_type": "code",
      "metadata": {
        "id": "LIJD7z5solm8"
      },
      "source": [
        "np.mean(points)"
      ],
      "execution_count": null,
      "outputs": []
    },
    {
      "cell_type": "code",
      "metadata": {
        "id": "qlG6vnLZpE1T"
      },
      "source": [
        "np.median(points)"
      ],
      "execution_count": null,
      "outputs": []
    },
    {
      "cell_type": "markdown",
      "metadata": {
        "id": "H78NDelTprNL"
      },
      "source": [
        "## Array Shape Manipulation"
      ]
    },
    {
      "cell_type": "code",
      "metadata": {
        "id": "2dghOzYOpqL9"
      },
      "source": [
        "a = np.array([[1, 2, 3], [4, 5, 6]])\n",
        "a"
      ],
      "execution_count": null,
      "outputs": []
    },
    {
      "cell_type": "code",
      "metadata": {
        "id": "fAVDhkGCpyJB"
      },
      "source": [
        "a.ravel()"
      ],
      "execution_count": null,
      "outputs": []
    },
    {
      "cell_type": "code",
      "metadata": {
        "id": "_slEyQTyp8Wc"
      },
      "source": [
        "a.shape"
      ],
      "execution_count": null,
      "outputs": []
    },
    {
      "cell_type": "code",
      "metadata": {
        "id": "CibwmkjBqBoo"
      },
      "source": [
        "b = a.ravel()\n",
        "b"
      ],
      "execution_count": null,
      "outputs": []
    },
    {
      "cell_type": "code",
      "metadata": {
        "id": "ksz9-2kaqGCN"
      },
      "source": [
        "b = b.reshape((2, 3))\n",
        "b"
      ],
      "execution_count": null,
      "outputs": []
    },
    {
      "cell_type": "markdown",
      "metadata": {
        "id": "T7yjIZkEqNFS"
      },
      "source": [
        "## Adding a dimension\n",
        "La indexación con el objeto **np.newaxis** nos permite agregar un eje a una matriz:"
      ]
    },
    {
      "cell_type": "code",
      "metadata": {
        "id": "j2PxKCQ0qQEY"
      },
      "source": [
        "z = np.array([1, 2, 3])\n",
        "z"
      ],
      "execution_count": null,
      "outputs": []
    },
    {
      "cell_type": "code",
      "metadata": {
        "id": "1wLqhgGRqUzD"
      },
      "source": [
        "z[:, np.newaxis]"
      ],
      "execution_count": null,
      "outputs": []
    },
    {
      "cell_type": "markdown",
      "metadata": {
        "id": "v78_v_KaqnCF"
      },
      "source": [
        "## Resizing"
      ]
    },
    {
      "cell_type": "code",
      "metadata": {
        "id": "yGud7H0qqo8G"
      },
      "source": [
        "a = np.arange(4)\n",
        "a.resize((8,))\n",
        "a"
      ],
      "execution_count": null,
      "outputs": []
    },
    {
      "cell_type": "markdown",
      "metadata": {
        "id": "Y7DBheA5rJRf"
      },
      "source": [
        "## Sorting data"
      ]
    },
    {
      "cell_type": "code",
      "metadata": {
        "id": "kIToatqorL_d"
      },
      "source": [
        "a = np.array([[4, 3, 5], [1, 2, 1]])\n",
        "b = np.sort(a, axis=1)\n",
        "b"
      ],
      "execution_count": null,
      "outputs": []
    }
  ]
}